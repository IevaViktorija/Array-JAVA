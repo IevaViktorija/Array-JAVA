{
  "nbformat": 4,
  "nbformat_minor": 0,
  "metadata": {
    "colab": {
      "provenance": [],
      "authorship_tag": "ABX9TyPHyB600hRn4OZlUpfQ0ken",
      "include_colab_link": true
    },
    "kernelspec": {
      "name": "python3",
      "display_name": "Python 3"
    },
    "language_info": {
      "name": "python"
    }
  },
  "cells": [
    {
      "cell_type": "markdown",
      "metadata": {
        "id": "view-in-github",
        "colab_type": "text"
      },
      "source": [
        "<a href=\"https://colab.research.google.com/github/IevaViktorija/Array-JAVA/blob/main/Phyton_lessons_from_March_till_July.ipynb\" target=\"_parent\"><img src=\"https://colab.research.google.com/assets/colab-badge.svg\" alt=\"Open In Colab\"/></a>"
      ]
    },
    {
      "cell_type": "markdown",
      "source": [
        "# **DATA TYPE**"
      ],
      "metadata": {
        "id": "BesBbiFz5BiG"
      }
    },
    {
      "cell_type": "code",
      "execution_count": null,
      "metadata": {
        "colab": {
          "base_uri": "https://localhost:8080/"
        },
        "id": "NTs5YecKZnHV",
        "outputId": "0405f9b1-7010-4afb-bd6b-ff172a540928"
      },
      "outputs": [
        {
          "output_type": "stream",
          "name": "stdout",
          "text": [
            "14\n",
            "<class 'int'>\n"
          ]
        }
      ],
      "source": [
        "# DATA TYPES\n",
        "#intigers: - and + /veseli skaitļi\n",
        "x = 14\n",
        "print(x)\n",
        "print(type(x))"
      ]
    },
    {
      "cell_type": "code",
      "source": [
        "# floats - skaitļi ar komatu\n",
        "nearly_pi = 3.14\n",
        "print(nearly_pi)\n",
        "print(type(nearly_pi))\n",
        "\n",
        "nearly_pi1 = 22/7\n",
        "#nooapaļisim ar 2 cipariem aiz komata - Rounding float\n",
        "rounded_nearly_pi1 = round(nearly_pi1,2) # ar pēdējo ciparu norāda, cik cipari aiz komata\n",
        "\n"
      ],
      "metadata": {
        "colab": {
          "base_uri": "https://localhost:8080/"
        },
        "id": "JbpaHI3EbTza",
        "outputId": "9106f43f-7d79-4da5-d700-ee9b07d0a98c"
      },
      "execution_count": null,
      "outputs": [
        {
          "output_type": "stream",
          "name": "stdout",
          "text": [
            "3.14\n",
            "<class 'float'>\n"
          ]
        }
      ]
    },
    {
      "cell_type": "code",
      "source": [
        "# booleans - False/True raksta ar lielo burtu\n",
        "boolean1 = True\n",
        "print(boolean1)\n",
        "print(type(boolean1))\n",
        "\n",
        "boolean2 = (1>2)\n",
        "print(boolean2) #rezultāts būs \"False\", jo 1 nav lielāks par 2\n",
        "print(type(boolean2))\n",
        "\n",
        "boolean3 = not boolean2 # with \"not\" iedos pretēju rezultātu\n",
        "print(boolean3)\n",
        "\n",
        "boolean5 = True + False # True = 1, False = 0 // 1+0 = 1\n",
        "print(boolean5)\n",
        "\n",
        "boolean6 = True + False + True + True\n",
        "print(boolean6)\n",
        "print(type(boolean6)) # returns 'int' jo atbilde ir cipars"
      ],
      "metadata": {
        "colab": {
          "base_uri": "https://localhost:8080/"
        },
        "id": "MmFuN6lNfR7A",
        "outputId": "ac8dbb23-4295-4628-befa-446a999468c9"
      },
      "execution_count": null,
      "outputs": [
        {
          "output_type": "stream",
          "name": "stdout",
          "text": [
            "True\n",
            "<class 'bool'>\n",
            "False\n",
            "<class 'bool'>\n",
            "True\n",
            "1\n",
            "3\n",
            "<class 'int'>\n"
          ]
        }
      ]
    },
    {
      "cell_type": "code",
      "source": [
        "# Strings - teksts\n",
        "string1 = \"Hello all\"\n",
        "print(string1)\n",
        "print(type(string1))\n",
        "len(string1)\n",
        "\n",
        "# conversion:\n",
        "nearly_pi_string = '3.14'\n",
        "type(nearly_pi_string)\n",
        "\n",
        "nearly_pi_converted= float(nearly_pi_string)\n",
        "type(nearly_pi_converted)\n",
        "\n",
        "new_string = \"abc\" + \"def\"\n",
        "print(new_string)\n",
        "\n"
      ],
      "metadata": {
        "colab": {
          "base_uri": "https://localhost:8080/"
        },
        "id": "ZTHYMTOfies_",
        "outputId": "bb2fa297-61e0-4ed3-a797-06a583c6eec4"
      },
      "execution_count": null,
      "outputs": [
        {
          "output_type": "stream",
          "name": "stdout",
          "text": [
            "Hello all\n",
            "<class 'str'>\n",
            "abcdef\n"
          ]
        }
      ]
    },
    {
      "cell_type": "code",
      "source": [
        "# Addition\n",
        "a = 5\n",
        "b= 3\n",
        "sum = a + b\n",
        "print(f'SUM: {sum}')"
      ],
      "metadata": {
        "colab": {
          "base_uri": "https://localhost:8080/"
        },
        "id": "L1yHePoUkiTH",
        "outputId": "fcfb8b2f-04b1-4f11-9fb0-bd7a18ce9ec0"
      },
      "execution_count": null,
      "outputs": [
        {
          "output_type": "stream",
          "name": "stdout",
          "text": [
            "SUM: 8\n"
          ]
        }
      ]
    },
    {
      "cell_type": "code",
      "source": [
        "# Subtraction\n",
        "difference = a - b\n",
        "print(f'Difference: {difference}')"
      ],
      "metadata": {
        "colab": {
          "base_uri": "https://localhost:8080/"
        },
        "id": "Vt5eCTeImcEF",
        "outputId": "c1ba669a-4fc4-4c46-9e34-d2bc3d532d1a"
      },
      "execution_count": null,
      "outputs": [
        {
          "output_type": "stream",
          "name": "stdout",
          "text": [
            "Difference: 2\n"
          ]
        }
      ]
    },
    {
      "cell_type": "code",
      "source": [
        "# Multiplication\n",
        "multip = a * b\n",
        "print(f'Multiplication: {multip}')"
      ],
      "metadata": {
        "colab": {
          "base_uri": "https://localhost:8080/"
        },
        "id": "ZhapHmVFmsNM",
        "outputId": "345766af-af78-4a31-ba26-868d1244a2c3"
      },
      "execution_count": null,
      "outputs": [
        {
          "output_type": "stream",
          "name": "stdout",
          "text": [
            "Multiplication: 15\n"
          ]
        }
      ]
    },
    {
      "cell_type": "code",
      "source": [
        "# Dividing\n",
        "divide = a / b\n",
        "print(f'Div: {divide}')"
      ],
      "metadata": {
        "colab": {
          "base_uri": "https://localhost:8080/"
        },
        "id": "EIvfbWWom34A",
        "outputId": "fc12f7f6-37eb-4219-f562-284d82b71baa"
      },
      "execution_count": null,
      "outputs": [
        {
          "output_type": "stream",
          "name": "stdout",
          "text": [
            "Div: 1.6666666666666667\n"
          ]
        }
      ]
    },
    {
      "cell_type": "code",
      "source": [
        "# Expo - aprēķinās 5 pakāpē 3\n",
        "power = a ** b\n",
        "print(power)"
      ],
      "metadata": {
        "colab": {
          "base_uri": "https://localhost:8080/"
        },
        "id": "4ztow9aynX3c",
        "outputId": "9cfe6930-1b33-4109-9799-5abaab169685"
      },
      "execution_count": null,
      "outputs": [
        {
          "output_type": "stream",
          "name": "stdout",
          "text": [
            "125\n"
          ]
        }
      ]
    },
    {
      "cell_type": "code",
      "source": [],
      "metadata": {
        "id": "fWj2iDkUqWw_"
      },
      "execution_count": null,
      "outputs": []
    },
    {
      "cell_type": "code",
      "source": [
        "input1 = input(\"How old are you?:\") # this is a string\n",
        "input2 = input('How old am I:') # this is a string\n",
        "sum = input1 + input2\n",
        "\n"
      ],
      "metadata": {
        "colab": {
          "base_uri": "https://localhost:8080/"
        },
        "id": "-uGx3VJpp-uk",
        "outputId": "34f02e2e-fe03-49fa-ce24-0b13163137ca"
      },
      "execution_count": null,
      "outputs": [
        {
          "name": "stdout",
          "output_type": "stream",
          "text": [
            "How old are you?:89\n",
            "How old am I:99\n"
          ]
        }
      ]
    },
    {
      "cell_type": "code",
      "source": [
        "# let's calculate density of an area\n",
        "area = input('Enter area:')\n",
        "population = input('Enter population:')\n",
        "area_int = int(area) # jāpārvērš par skaitļiem, jo input ir string un string nevar dalīt un lietot matemātiskā funkcijā\n",
        "population_int = int(population)\n",
        "density = population_int / area_int\n",
        "print(f'Average density is: {density}')\n",
        "\n",
        "# pounds to kg\n",
        "pounds = input('Enter the weight in pounds:')\n",
        "pounds_float = float(pounds)\n",
        "conversion_factor = 0.453592\n",
        "kg = round(pounds_float * conversion_factor,2)\n",
        "print(f'Weight in pounds: {pounds}, Weight in kg: {kg}')"
      ],
      "metadata": {
        "colab": {
          "base_uri": "https://localhost:8080/"
        },
        "id": "FxKLKxDhsDHI",
        "outputId": "8be0764e-914d-4f5c-e54c-8e2c89ba8462"
      },
      "execution_count": null,
      "outputs": [
        {
          "output_type": "stream",
          "name": "stdout",
          "text": [
            "Enter area:33\n",
            "Enter population:33\n",
            "Average density is: 1.0\n",
            "Enter the weight in pounds:44\n",
            "Weight in pounds: 44, Weight in kg: 19.96\n"
          ]
        }
      ]
    },
    {
      "cell_type": "code",
      "source": [
        "# BMI\n",
        "weight = input('Enter your weight in kg:')\n",
        "height = input('Enter your height in meters')\n",
        "weight_int = float(weight)\n",
        "height_int = float(height)\n",
        "bmi = weight_int / (height_int ** 2)\n",
        "print('Your BMI is:', round(bmi,2))\n",
        "\n",
        "\n",
        "\n"
      ],
      "metadata": {
        "colab": {
          "base_uri": "https://localhost:8080/"
        },
        "id": "c7ZLRHGByuLH",
        "outputId": "a4c6d8a6-ecb8-4980-800d-3d139179533c"
      },
      "execution_count": null,
      "outputs": [
        {
          "output_type": "stream",
          "name": "stdout",
          "text": [
            "Enter your weight in kg:117\n",
            "Enter your height in meters2.03\n",
            "Your BMI is: 28.39\n"
          ]
        }
      ]
    },
    {
      "cell_type": "markdown",
      "source": [],
      "metadata": {
        "id": "b_ygagYnk6gj"
      }
    },
    {
      "cell_type": "code",
      "source": [],
      "metadata": {
        "id": "DNWxody1Uen3"
      },
      "execution_count": null,
      "outputs": []
    },
    {
      "cell_type": "code",
      "source": [
        "# Equal\n",
        "x = 5\n",
        "y = 5\n",
        "\n",
        "print( x == 5)\n",
        "print('1' == 1 )\n",
        "\n",
        "# not equal x !="
      ],
      "metadata": {
        "colab": {
          "base_uri": "https://localhost:8080/"
        },
        "id": "FhPAR_NmNMRj",
        "outputId": "2f8e2edb-2418-4542-e823-9a9a4f2eeb4a"
      },
      "execution_count": null,
      "outputs": [
        {
          "output_type": "stream",
          "name": "stdout",
          "text": [
            "True\n",
            "False\n"
          ]
        }
      ]
    },
    {
      "cell_type": "code",
      "source": [
        "# if else statements\n",
        "\n",
        "x = 50\n",
        "\n",
        "if x < 50:\n",
        "  print( 'Less than 50 ' )\n",
        "else:\n",
        "  print('More than or equal to 50')\n",
        "\n",
        "a = 20\n",
        "if a > 10:\n",
        "  print('a is above 10')\n",
        "  print('this is in the a block')\n",
        "print('this is outside a block')\n",
        "\n",
        "age = int(input('How old are you')) #jāatceras ka input vienmēr atgriež \"string\", tapēc obligāti int priekšā\n",
        "if age >= 18:\n",
        "  print('You are eligible to vote')\n",
        "  print('Please preceed to the voting booth')\n",
        "else:\n",
        "  print(\"You are NOT eligible to vote\")\n",
        "print(\"Thank you for participating\")\n",
        "\n"
      ],
      "metadata": {
        "colab": {
          "base_uri": "https://localhost:8080/"
        },
        "id": "wogpDCnvSghG",
        "outputId": "df58bcc2-4c32-4429-81a8-9d98ccf0fc43"
      },
      "execution_count": null,
      "outputs": [
        {
          "output_type": "stream",
          "name": "stdout",
          "text": [
            "More than or equal to 50\n",
            "a is above 10\n",
            "this is in the a block\n",
            "this is outside a block\n",
            "How old are you34\n",
            "You are eligible to vote\n",
            "Please preceed to the voting booth\n",
            "Thank you for participating\n"
          ]
        }
      ]
    },
    {
      "cell_type": "code",
      "source": [
        "number = int(input('Enter a number: '))\n",
        "if number % 2 == 0:\n",
        "  print(f'The number {number} is even')\n",
        "else:\n",
        "  print(f'The number {number} is odd')"
      ],
      "metadata": {
        "colab": {
          "base_uri": "https://localhost:8080/"
        },
        "id": "rQLIQkSfX9yv",
        "outputId": "dbbaeb54-b0cf-4402-b512-4630a2f194fa"
      },
      "execution_count": null,
      "outputs": [
        {
          "output_type": "stream",
          "name": "stdout",
          "text": [
            "Enter a number: 567890\n",
            "The number 567890 is even\n"
          ]
        }
      ]
    },
    {
      "cell_type": "code",
      "source": [
        "# Payment approval\n",
        "# if the transaction can be done based on the account balance\n",
        "try:\n",
        "  account_balance = float(input(\"Enter your account balance: \"))\n",
        "  transaction_amount = float(input(\"Enter the amount of transaction: \"))\n",
        "\n",
        "  if account_balance >= transaction_amount:\n",
        "      print(\"You are golden!\")\n",
        "  else:\n",
        "      print(\"Sorry, your funds are not enough.\")\n",
        "except:\n",
        "  print(\"Wrong input\")"
      ],
      "metadata": {
        "colab": {
          "base_uri": "https://localhost:8080/"
        },
        "id": "eRB2pskzZRun",
        "outputId": "c980f48a-e881-4d4a-c98d-5faa3c2eea30"
      },
      "execution_count": null,
      "outputs": [
        {
          "output_type": "stream",
          "name": "stdout",
          "text": [
            "Enter your account balance: 333\n",
            "Enter the amount of transaction: xas\n",
            "Wrong input\n"
          ]
        }
      ]
    },
    {
      "cell_type": "code",
      "source": [],
      "metadata": {
        "id": "BQsDxYB7o8qa"
      },
      "execution_count": null,
      "outputs": []
    },
    {
      "cell_type": "code",
      "source": [
        "# TEMPERATURE CONVERSATION BETWEEN CELSIUS AND FARENHEIT\n",
        "\n",
        "\n",
        "conversion_direction = input(\"Select the direction of conversion (Celsius to Fahrenheit - 'C to F' or Fahrenheit to Celsius - 'F to C'): \")\n",
        "\n",
        "\n",
        "temperature = float(input(\"Enter the temperature value to convert: \"))\n",
        "\n",
        "\n",
        "if conversion_direction == 'C to F' or conversion_direction == 'c to f':\n",
        "    converted_temperature = (temperature * 9/5) + 32\n",
        "    print(f\"{temperature} degrees Celsius is equal to {converted_temperature} degrees Fahrenheit.\")\n",
        "\n",
        "elif conversion_direction == 'F to C' or conversion_direction == 'f to c':\n",
        "\n",
        "    converted_temperature = (temperature - 32) * 5/9\n",
        "    print(f\"{temperature} degrees Fahrenheit is equal to {converted_temperature} degrees Celsius.\")\n",
        "\n",
        "else:\n",
        "    print(\"Invalid conversion direction. Please select either 'C to F' or 'F to C'.\")"
      ],
      "metadata": {
        "id": "AMDQzFO2o-oo"
      },
      "execution_count": null,
      "outputs": []
    },
    {
      "cell_type": "code",
      "source": [
        "# Access management system\n",
        "# user; password\n",
        "\n",
        "STORED_USERNAME = 'user123'\n",
        "STORED_PASSWORD = 'pass123'\n",
        "\n",
        "input_username = input(\"Enter your username: \")\n",
        "input_password = input(\"Enter your password: \")\n",
        "\n",
        "if input_username == STORED_USERNAME and input_password == STORED_PASSWORD:\n",
        "  print(\"You are good to go!\")\n",
        "else:\n",
        "  print(\"Sorry, access denied.\")\n",
        "\n",
        "\n",
        "\n"
      ],
      "metadata": {
        "colab": {
          "base_uri": "https://localhost:8080/"
        },
        "id": "lpO9Q1kMeVOS",
        "outputId": "e45aa7f1-6908-4e29-e29d-f2357b5c30cb"
      },
      "execution_count": null,
      "outputs": [
        {
          "output_type": "stream",
          "name": "stdout",
          "text": [
            "Enter your username: user123\n",
            "Enter your password: pass123\n",
            "You are good to go!\n"
          ]
        }
      ]
    },
    {
      "cell_type": "code",
      "source": [
        "x =\n",
        "\n",
        "if x < 5:\n",
        "  print ('Small')\n",
        "elif x < 15:\n",
        "  print ('Medium')\n",
        "else:\n",
        "  print ('Large')"
      ],
      "metadata": {
        "colab": {
          "base_uri": "https://localhost:8080/"
        },
        "id": "WEGOP35ahBrr",
        "outputId": "5f90a462-59df-4fc9-ddc6-ad36ade85382"
      },
      "execution_count": null,
      "outputs": [
        {
          "output_type": "stream",
          "name": "stdout",
          "text": [
            "Large\n"
          ]
        }
      ]
    },
    {
      "cell_type": "markdown",
      "source": [
        "Grading"
      ],
      "metadata": {
        "id": "9-8cv85ZiDCf"
      }
    },
    {
      "cell_type": "code",
      "source": [
        "try:\n",
        "  score = int(input('Enter you score: '))\n",
        "\n",
        "  if score >= 90:\n",
        "    print (\"Your grade is A!\")\n",
        "  elif score >= 80:\n",
        "    print (\"Your grade is B!\")\n",
        "  elif score >= 70:\n",
        "    print (\"Your grade is C!\")\n",
        "  elif score >= 60:\n",
        "    print (\"Your grade is D!\")\n",
        "  else:\n",
        "    print (\"Your score is F! Learn more!!!\")\n",
        "except:\n",
        "  print('Wrong input')"
      ],
      "metadata": {
        "colab": {
          "base_uri": "https://localhost:8080/"
        },
        "id": "7b4gPF-Sipnf",
        "outputId": "7edee59c-3cec-48b0-e67e-323ee69baf19"
      },
      "execution_count": null,
      "outputs": [
        {
          "output_type": "stream",
          "name": "stdout",
          "text": [
            "Enter you score: ghy\n",
            "Wrong input\n"
          ]
        }
      ]
    },
    {
      "cell_type": "code",
      "source": [
        "input_fruit = input(\"Enter a fruit name: \")\n",
        "\n",
        "fruits = ['apple', 'orange', 'banana', 'grape', 'kiwi']\n",
        "if input_fruit in fruits:\n",
        "  print(f\"Yes, {input_fruit} is in the list\")\n",
        "\n",
        "else:\n",
        "    print(f'{input_fruit} is not in the list')\n"
      ],
      "metadata": {
        "colab": {
          "base_uri": "https://localhost:8080/"
        },
        "id": "ph9r_xzpVMIp",
        "outputId": "536e2c9a-bf28-44d3-d43d-747e23af0894"
      },
      "execution_count": null,
      "outputs": [
        {
          "output_type": "stream",
          "name": "stdout",
          "text": [
            "Enter a fruit name: okme\n",
            "okme is not in the list\n"
          ]
        }
      ]
    },
    {
      "cell_type": "code",
      "source": [
        "numbers = [1, 2, 3, 4, 5]\n",
        "input_number = int(input(\"Enter a number: \"))\n",
        "\n",
        "if input_number in numbers:\n",
        "    if input_number %2 == 0:\n",
        "      print(\"This is an even number\")\n",
        "    else:\n",
        "      print (\"This is an odd number\")\n",
        "else:\n",
        "    print('Your number is not in the list')\n"
      ],
      "metadata": {
        "colab": {
          "base_uri": "https://localhost:8080/"
        },
        "id": "Am53X4cnZVsT",
        "outputId": "87fdc1a1-0093-484d-f005-02dc1a554a59"
      },
      "execution_count": null,
      "outputs": [
        {
          "output_type": "stream",
          "name": "stdout",
          "text": [
            "Enter a number: 2\n",
            "This is an even number\n"
          ]
        }
      ]
    },
    {
      "cell_type": "markdown",
      "source": [
        "# **LIST METHODS**"
      ],
      "metadata": {
        "id": "CycGapop421e"
      }
    },
    {
      "cell_type": "code",
      "source": [
        "# LIST METHODS:\n",
        "# Append\n",
        "\n",
        "items = ['apple', 'kiwi', 'orange']\n",
        "print(f'original items {items}')\n",
        "\n",
        "my_value = 'banana'\n",
        "items.append(my_value)\n",
        "print(f'original items {items}')\n",
        "\n",
        "# Copy\n",
        "\n",
        "original_list = [1, 2, 3, 4, 5]\n",
        "copied_list = original_list.copy()\n",
        "original_list.append(6)\n",
        "print(original_list)\n",
        "print(copied_list)\n",
        "\n",
        "# Count\n",
        "\n",
        "numbers = [1, 1, 2, 3, 4, 5, 5, 6]\n",
        "target_number = 5\n",
        "count = numbers.count(target_number)\n",
        "print(f\"The number {target_number} appers {count} times in the list\")\n",
        "\n",
        "# Index\n",
        "\n",
        "fruits = ['apple', 'banana', 'orange']\n",
        "fruits_index = fruits.index('banana')\n",
        "print(f'Index of \"banana\" is: {fruits_index}')\n",
        "\n",
        "# Insert\n",
        "\n",
        "numbers = [2, 4, 5, 8, 1]\n",
        "numbers.insert(2, 10) #pirmais cipar iekavās norāda indeksu, vietu kur būs cipars, otrais cipars pasaka kādu ciparu vajag ievietot\n",
        "print(numbers)\n",
        "\n",
        "# POP - lai noņemtu ciparu\n",
        "numbers.pop(2) # cipars norāda indeksu, nonems treso ciparu\n",
        "print(numbers)\n",
        "\n",
        "#Sort\n",
        "numbers.sort()\n",
        "print(numbers)\n"
      ],
      "metadata": {
        "id": "iEkE-mezbtxk"
      },
      "execution_count": null,
      "outputs": []
    },
    {
      "cell_type": "code",
      "source": [
        "# Range\n",
        "numbers = list(range(10, 50, 10)) #1.cip ar ko sāksies, 2.cip ar ko beigsies, 3.cip step - cik jāizlaiž starp katru skaitli\n",
        "print(numbers)\n",
        "\n",
        "\n",
        "numbers_with_range = range(1, 10)\n",
        "list(range(1, 10, 2))\n",
        "for i in numbers_with_range:\n",
        "  print(i)"
      ],
      "metadata": {
        "id": "IqJqJZWDmDgo"
      },
      "execution_count": null,
      "outputs": []
    },
    {
      "cell_type": "code",
      "source": [
        "# FOR LOOP\n",
        "my_numbers = [2, 5, 55, 33, 7, 9, 0, 1, 74, 30]\n",
        "for number in my_numbers:\n",
        "  if number > 5:\n",
        "     print(f'{number} is bigger than 5')\n",
        "  elif number < 5:\n",
        "      print(f'{number} is smaller than 5')\n",
        "  else:\n",
        "        print(\"Your selected number is 5\")\n"
      ],
      "metadata": {
        "id": "wvnqWpRftXZh"
      },
      "execution_count": null,
      "outputs": []
    },
    {
      "cell_type": "code",
      "source": [
        "for letter in \"I love Phyton\":\n",
        "  print(letter) # šajā gadījumā burti būs stabiņā\n",
        "\n",
        "for digits in \"This is second example\":\n",
        "  print(digits, end = '') #šajā gadījumā burti būs vienā līnijā"
      ],
      "metadata": {
        "id": "A_El0QMEXjMH"
      },
      "execution_count": null,
      "outputs": []
    },
    {
      "cell_type": "code",
      "source": [
        "counter = 1\n",
        "cities_i_have_been_to = ['Tallin', 'Riga', 'Tartu', 'Aluksne', 'Viru', 'Ventspils']\n",
        "previous_city = None\n",
        "\n",
        "year_I_visited = [2010, 2014, 2015, 2016, 2018, 2020]\n",
        "len(cities_i_have_been_to) # god garumu, cik ir vērtības array\n",
        "\n",
        "\n",
        "for city in cities_i_have_been_to:\n",
        "  if previous_city == None:\n",
        "    print(f'{counter}. I have been to {city}.')\n",
        "  else:\n",
        "      print(f'{counter}. I have been to {city}. The previous city I visited was {previous_city}.')\n",
        "  previous_city = city\n",
        "  counter = counter + 1\n",
        "\n",
        "range(len(cities_i_have_been_to))\n",
        "list(range(len(cities_i_have_been_to))) # creats a list of indexes, nenosauks nosaukumus, tikai cipari bus\n",
        "for i in range(len(cities_i_have_been_to)):\n",
        "  print(f'I have been to {cities_i_have_been_to[i]}. I visited that city {year_I_visited[i]}')\n",
        "\n"
      ],
      "metadata": {
        "colab": {
          "base_uri": "https://localhost:8080/"
        },
        "id": "C6C_x80yZPgX",
        "outputId": "26873944-c667-4c48-dc80-6e288b18a0fe"
      },
      "execution_count": null,
      "outputs": [
        {
          "output_type": "stream",
          "name": "stdout",
          "text": [
            "1. I have been to Tallin.\n",
            "2. I have been to Riga. The previous city I visited was Tallin.\n",
            "3. I have been to Tartu. The previous city I visited was Riga.\n",
            "4. I have been to Aluksne. The previous city I visited was Tartu.\n",
            "5. I have been to Viru. The previous city I visited was Aluksne.\n",
            "6. I have been to Ventspils. The previous city I visited was Viru.\n",
            "I have been to Tallin. I visited that city 2010\n",
            "I have been to Riga. I visited that city 2014\n",
            "I have been to Tartu. I visited that city 2015\n",
            "I have been to Aluksne. I visited that city 2016\n",
            "I have been to Viru. I visited that city 2018\n",
            "I have been to Ventspils. I visited that city 2020\n"
          ]
        }
      ]
    },
    {
      "cell_type": "code",
      "source": [
        "# nested lists\n",
        "matrix_2d = [\n",
        "    [1, 2, 3],\n",
        "    [4, 5, 6],\n",
        "    [7, 8, 9]\n",
        "]\n",
        "for i in matrix_2d:\n",
        "  print(f'This is the sub-list: {i}')\n",
        "  for j in i:\n",
        "    print(f'These are the elements of the sub-list {j} ')"
      ],
      "metadata": {
        "colab": {
          "base_uri": "https://localhost:8080/"
        },
        "id": "I-_NeRnogN1g",
        "outputId": "a8d919ee-a149-443f-a157-491fa8e95936"
      },
      "execution_count": null,
      "outputs": [
        {
          "output_type": "stream",
          "name": "stdout",
          "text": [
            "This is the sub-list: [1, 2, 3]\n",
            "These are the elements of the sub-list 1 \n",
            "These are the elements of the sub-list 2 \n",
            "These are the elements of the sub-list 3 \n",
            "This is the sub-list: [4, 5, 6]\n",
            "These are the elements of the sub-list 4 \n",
            "These are the elements of the sub-list 5 \n",
            "These are the elements of the sub-list 6 \n",
            "This is the sub-list: [7, 8, 9]\n",
            "These are the elements of the sub-list 7 \n",
            "These are the elements of the sub-list 8 \n",
            "These are the elements of the sub-list 9 \n"
          ]
        }
      ]
    },
    {
      "cell_type": "code",
      "source": [
        "# GRADE MAPPING EXERCISE\n",
        "grade_mapping = [[90, 'A'], [80, 'B'], [70, 'C'], [60, 'D'], [0, 'F']]\n",
        "student_names = [\"Ieva\", \"Laila\", \"Andris\", \"Elina\", \"Eva\"]\n",
        "student_scores = [85, 72, 54, 33, 90]\n",
        "\n",
        "for i in range(len(student_scores)):\n",
        "  print(student_scores[i])\n",
        "  print(student_names[i])\n",
        "  score = student_scores[i]\n",
        "  for threshold, letter_grade in grade_mapping:\n",
        "    if score >= threshold:\n",
        "      print(f'Hi, {student_names[i]}, your letter grade is {letter_grade}')\n",
        "      break"
      ],
      "metadata": {
        "id": "w6CSBrMjqctI"
      },
      "execution_count": null,
      "outputs": []
    },
    {
      "cell_type": "code",
      "source": [
        "students = ['Alice', 'Greg', 'Baiba']\n",
        "for index, student in enumerate(students, start=1):\n",
        "  print(f'Student {index}: {student}')"
      ],
      "metadata": {
        "colab": {
          "base_uri": "https://localhost:8080/"
        },
        "id": "Op81FA_Cw4uP",
        "outputId": "679241aa-6bd1-4594-8a7b-d627d66e5986"
      },
      "execution_count": null,
      "outputs": [
        {
          "output_type": "stream",
          "name": "stdout",
          "text": [
            "Student 1: Alice\n",
            "Student 2: Greg\n",
            "Student 3: Baiba\n"
          ]
        }
      ]
    },
    {
      "cell_type": "code",
      "source": [
        "# To check if an item is in the list\n",
        "\n",
        "clothing_list = ['skirt', 'jeans', 'dress', 'bikini', 'shorts']\n",
        "user_input = input(\"Please enter a name of a clothing: \")\n",
        "\n",
        "for check_item in clothing_list:\n",
        "    if check_item == user_input:\n",
        "        print(f'{user_input} is in the list')\n",
        "        break\n",
        "else:\n",
        "    print(f'{user_input} is not in in the list')"
      ],
      "metadata": {
        "colab": {
          "base_uri": "https://localhost:8080/"
        },
        "id": "QxD7JYeXFhXH",
        "outputId": "550435fb-7a82-4fbb-ccb2-82c5fc2e23d8"
      },
      "execution_count": null,
      "outputs": [
        {
          "output_type": "stream",
          "name": "stdout",
          "text": [
            "Please enter a name of a clothing: jeans\n",
            "jeans is in the list\n"
          ]
        }
      ]
    },
    {
      "cell_type": "markdown",
      "source": [
        "# **WHILE LOOP**"
      ],
      "metadata": {
        "id": "YlIF4Yifc-M-"
      }
    },
    {
      "cell_type": "code",
      "source": [
        "counter = 0 #lai \"while loop\" nebūtu bezgalīgs ir pirms tā jāizveido counter\n",
        "while True: # \"true\" vietā varu rakstit any logical expression\n",
        "  counter = counter + 1\n",
        "  print(counter) # this will never stop because there is no break\n"
      ],
      "metadata": {
        "colab": {
          "base_uri": "https://localhost:8080/"
        },
        "id": "oGhJkCPrdHsY",
        "outputId": "aeb82740-2c24-4fad-e318-2df1d099a8fe"
      },
      "execution_count": null,
      "outputs": [
        {
          "output_type": "stream",
          "name": "stdout",
          "text": [
            "1\n"
          ]
        }
      ]
    },
    {
      "cell_type": "code",
      "source": [
        "counter = 0\n",
        "while counter < 10 :\n",
        "  counter = counter + 1\n",
        "  print(counter)\n",
        "\n",
        "counter = 0\n",
        "while True:\n",
        "  counter = counter + 2\n",
        "  print(counter)\n",
        "  break #ar \"break\" var apstādināt while ciklu, tas ir 1 veids\n",
        "\n",
        "counter = 0\n",
        "while True:\n",
        "  counter = counter + 1\n",
        "  print(counter)\n",
        "  if counter < 10: # otrs veids var apstādināt ar if/else\n",
        "    continue\n",
        "  else:\n",
        "    break\n",
        "\n"
      ],
      "metadata": {
        "colab": {
          "base_uri": "https://localhost:8080/"
        },
        "collapsed": true,
        "id": "hXIyXdegqxZ6",
        "outputId": "8ea8eb90-0a0a-4441-e399-fcb0f3821778"
      },
      "execution_count": null,
      "outputs": [
        {
          "output_type": "stream",
          "name": "stdout",
          "text": [
            "1\n",
            "2\n",
            "3\n",
            "4\n",
            "5\n",
            "6\n",
            "7\n",
            "8\n",
            "9\n",
            "10\n",
            "2\n",
            "1\n",
            "2\n",
            "3\n",
            "4\n",
            "5\n",
            "6\n",
            "7\n",
            "8\n",
            "9\n",
            "10\n"
          ]
        }
      ]
    },
    {
      "cell_type": "code",
      "source": [
        "# CTIES I HAVE  BEEN TO:\n",
        "counter = 0 #loģika, lai parādītos cipars pirms katra jautājuma\n",
        "cities_list = [] #loģika, lai izveidotu saraksta veidā - sākas ar tukšu list\n",
        "while True: #var rakstīt arī city != \"STOP\"\n",
        "  city = input(\"What cities you have been to? To stop write STOP. \")\n",
        "\n",
        "#tagad loģika lai pārbaudītu vai user ierakstījis STOP\n",
        "  if city == 'STOP':\n",
        "    print(\"You entered STOP\")\n",
        "    break\n",
        "  else:\n",
        "    counter = counter + 1\n",
        "    print( f\" {counter}. I have been in this city: {city}\") #counter could be replaced with {len(cities_list)}\n",
        "    cities_list.append(city) #šeit loģika, lai ievadītās pilsētas tiktu uzskaitītas, pievienotas\n",
        "\n",
        "print(f'You have been to {len(cities_list)} cities')\n"
      ],
      "metadata": {
        "colab": {
          "base_uri": "https://localhost:8080/"
        },
        "id": "mTjjdzCGvYaR",
        "outputId": "7ace4c41-a57f-43fc-9799-75f807bfa806"
      },
      "execution_count": null,
      "outputs": [
        {
          "output_type": "stream",
          "name": "stdout",
          "text": [
            "What cities you have been to? To stop write STOP. uohp\n",
            " 1. I have been in this city: uohp\n",
            "What cities you have been to? To stop write STOP. opjo\n",
            " 2. I have been in this city: opjo\n",
            "What cities you have been to? To stop write STOP. STOP\n",
            "You entered STOP\n",
            "You have been to 2 cities\n"
          ]
        }
      ]
    },
    {
      "cell_type": "markdown",
      "source": [
        "# **Import a libary**"
      ],
      "metadata": {
        "id": "o3YRgtpr3aLt"
      }
    },
    {
      "cell_type": "code",
      "source": [
        "import random\n",
        "random.randint(1, 101) # cipari iekavās nosaka no kura līdz kuram ciparam dators randomā uzraksts ciparu\n",
        "random_number = random.randint(33, 48)\n",
        "print(random_number)\n"
      ],
      "metadata": {
        "colab": {
          "base_uri": "https://localhost:8080/"
        },
        "id": "zYY-4J4M3don",
        "outputId": "d4925258-0fbb-4589-efcc-46c308aad4eb"
      },
      "execution_count": null,
      "outputs": [
        {
          "output_type": "stream",
          "name": "stdout",
          "text": [
            "42\n"
          ]
        }
      ]
    },
    {
      "cell_type": "code",
      "source": [
        "# TUPLES - are not immutable, once it has longitude & latidute you cannot change it, cannot append anything to it\n",
        "my_dict = {} #like this define a dictionary\n",
        "my_list = [] # like this define a list\n",
        "my_tuple = () # like this define a tuple\n",
        "\n",
        "my_tuple = (1, 2, 3)\n",
        "print(my_tuple)\n",
        "new_list = [1, 2, 3, 4]\n",
        "print(new_list) #prints the sum of the list\n",
        "\n",
        "# transform the list to tuple\n",
        "new_tuple = tuple(new_list)\n",
        "type(new_tuple)\n",
        "print(new_tuple)\n",
        "\n",
        "new_tuple[0]\n",
        "new_tuple[0:3] # this is how you can index into tuples\n",
        "\n",
        "len(new_tuple) #to check the length\n",
        "min(new_tuple) #min\n",
        "max(new_tuple)\n",
        "sum(new_tuple)\n"
      ],
      "metadata": {
        "colab": {
          "base_uri": "https://localhost:8080/"
        },
        "id": "6SHnzXu9gwJY",
        "outputId": "49c8af42-faa7-48b6-e785-187fe35eea01"
      },
      "execution_count": null,
      "outputs": [
        {
          "output_type": "stream",
          "name": "stdout",
          "text": [
            "(1, 2, 3)\n",
            "[1, 2, 3, 4]\n",
            "(1, 2, 3, 4)\n"
          ]
        },
        {
          "output_type": "execute_result",
          "data": {
            "text/plain": [
              "10"
            ]
          },
          "metadata": {},
          "execution_count": 3
        }
      ]
    },
    {
      "cell_type": "markdown",
      "source": [
        "# **DICTIONARY**"
      ],
      "metadata": {
        "id": "USSfUV-OvjPR"
      }
    },
    {
      "cell_type": "code",
      "source": [
        "#DICTIONARY\n",
        "\n",
        "dictionary = {} # 1st way to create a curly braces method\n",
        "another_dictionary = dict() #2nd way is to create dict method\n",
        "\n",
        "dictionary = {}\n",
        "dictionary['key1'] = 'value1' #add an elemento to the dictionary\n",
        "dictionary['key2'] = 'value2'\n",
        "dictionary['key2'] #use the key to get to the element\n",
        "\n",
        "# storing a list in a dictionary\n",
        "dictionary['datorium_list'] = ['Phyton', 'Java', 'C#']\n",
        "dictionary\n",
        "\n",
        "my_friends = {'Alise': 30,\n",
        "              'John': 40,\n",
        "              'Linda': 28}\n",
        "my_friends['Linda']\n",
        "\n",
        "#update()\n",
        "incoming_friends = {'Arta': 28}\n",
        "my_friends.update(incoming_friends) #with a dot . I call a method\n",
        "print(my_friends)\n",
        "\n",
        "#pop() - remove an element\n",
        "my_friends.pop('Linda')\n",
        "\n",
        "\n",
        "# get()\n",
        "print(my_friends)\n",
        "my_friends.get('John')\n",
        "my_friends.get('Alise')\n",
        "my_friends.get('Linda', 'Does not exist')"
      ],
      "metadata": {
        "colab": {
          "base_uri": "https://localhost:8080/",
          "height": 70
        },
        "id": "XFfPogzVlonw",
        "outputId": "75bd3682-773c-4cf7-a1b8-b7309fd2d9d1"
      },
      "execution_count": null,
      "outputs": [
        {
          "output_type": "stream",
          "name": "stdout",
          "text": [
            "{'Alise': 30, 'John': 40, 'Linda': 28, 'Arta': 28}\n",
            "{'Alise': 30, 'John': 40, 'Arta': 28}\n"
          ]
        },
        {
          "output_type": "execute_result",
          "data": {
            "text/plain": [
              "'Does not exist'"
            ],
            "application/vnd.google.colaboratory.intrinsic+json": {
              "type": "string"
            }
          },
          "metadata": {},
          "execution_count": 23
        }
      ]
    },
    {
      "cell_type": "markdown",
      "source": [],
      "metadata": {
        "id": "bfXWymX2vfla"
      }
    },
    {
      "cell_type": "code",
      "source": [
        "# items(), keys(), values()\n",
        "\n",
        "# items() - returns all the obj from the dictionary\n",
        "my_friends.items()\n",
        "\n",
        "#keys() - returns keys\n",
        "my_friends.keys()\n",
        "\n",
        "# values() - returns values\n",
        "my_friends.values()"
      ],
      "metadata": {
        "id": "OmZp4G8suA-5"
      },
      "execution_count": null,
      "outputs": []
    },
    {
      "cell_type": "markdown",
      "source": [
        "# **create a contact book**"
      ],
      "metadata": {
        "id": "vY2THW6Vx8zo"
      }
    },
    {
      "cell_type": "code",
      "source": [
        "contact_book = {} # empty dictinary where I will store my contacts\n",
        "\n",
        "while True:\n",
        "  print('write STOP when you finished adding conatacts')\n",
        "  name = input('Enter the name: ')\n",
        "  if name == 'STOP':\n",
        "    print('You stopped adding contacts')\n",
        "    break\n",
        "  number = input('Enter your number: ')\n",
        "  contact_book[name] = number #šajā gadījumā \"name\" ir atslēga un \"number\" ir value\n",
        "\n",
        "#new_dict = {name: number}\n",
        "#contact_book.update(new_dict)\n",
        "# contact_book[name] = number # adding element to the dictionary\n",
        "print(f'Contact {name} added succesfully!')\n",
        "\n",
        "\n",
        "\n",
        "\n"
      ],
      "metadata": {
        "colab": {
          "base_uri": "https://localhost:8080/"
        },
        "id": "cvU38GAYyBsd",
        "outputId": "e2d34263-3d34-4e2c-80b6-e9e6f3a9ea47"
      },
      "execution_count": null,
      "outputs": [
        {
          "output_type": "stream",
          "name": "stdout",
          "text": [
            "write STOP when you finished adding conatacts\n",
            "Enter the name: ieva\n",
            "Enter your number: 78\n",
            "write STOP when you finished adding conatacts\n",
            "Enter the name: uiupo\n",
            "Enter your number: ioho\n",
            "write STOP when you finished adding conatacts\n",
            "Enter the name: STOP\n",
            "You stopped adding contacts\n",
            "Contact STOP added succesfully!\n"
          ]
        }
      ]
    },
    {
      "cell_type": "code",
      "source": [
        "#Store inventory\n",
        "inventory={}\n",
        "\n",
        "def add_item(inventory): #this is a function addind item to dictionary\n",
        "  store_item = input('Enter item name')\n",
        "  quantity= input('Enter amount')\n",
        "  inventory[store_item] = quantity\n",
        "  print(f'Item {store_item} quantity updated')\n",
        "\n",
        "while True:\n",
        "  exit = input(\"write STOP if you want to exit\")\n",
        "  if exit == 'STOP':\n",
        "    break\n",
        "  add_item(inventory) #every f-ju need to be called, this is how to call f-ju\n"
      ],
      "metadata": {
        "colab": {
          "base_uri": "https://localhost:8080/"
        },
        "id": "KNMvnE7P3uPX",
        "outputId": "0e67b688-9e51-41bc-aae3-912b4e2f6b32"
      },
      "execution_count": null,
      "outputs": [
        {
          "name": "stdout",
          "output_type": "stream",
          "text": [
            "write STOP if you want to exitno\n",
            "Enter item namebij;\n",
            "Enter amountjhpo\n",
            "Item bij; quantity updated\n",
            "write STOP if you want to exitioh\n",
            "Enter item nameioho\n",
            "Enter amountSTOP\n",
            "Item ioho quantity updated\n",
            "write STOP if you want to exitSTOP\n"
          ]
        }
      ]
    },
    {
      "cell_type": "markdown",
      "source": [
        "# **RANDOM / Importing libary**\n"
      ],
      "metadata": {
        "id": "rAGH4hcSq5D8"
      }
    },
    {
      "cell_type": "code",
      "source": [
        "import random\n",
        "random_number = random.randint(1, 101)\n",
        "print(random_number)\n",
        "\n",
        "while True:\n",
        "\n",
        "  guess = input('Guess the number between 1 and 100, to quit write \"stop\"!')\n",
        "  if guess == \"stop\":\n",
        "    print(\"You stopped the game\")\n",
        "    break\n",
        "\n",
        "  guess = int(guess)\n",
        "  if guess == random_number:\n",
        "    print(\"Congratulations, you guessed the number!\")\n",
        "  else:\n",
        "    if guess > random_number:\n",
        "      print(\"Wrong, try lower.\")\n",
        "    else:\n",
        "      print(\"Wrong, try higer.\")\n"
      ],
      "metadata": {
        "colab": {
          "base_uri": "https://localhost:8080/"
        },
        "collapsed": true,
        "id": "xZeYC9S5q9t3",
        "outputId": "641d6828-5c12-4563-baa6-77d78c63fa92"
      },
      "execution_count": null,
      "outputs": [
        {
          "output_type": "stream",
          "name": "stdout",
          "text": [
            "35\n",
            "Guess the number between 1 and 100, to quit write \"stop\"!21\n",
            "Wrong, try higer.\n",
            "Guess the number between 1 and 100, to quit write \"stop\"!40\n",
            "Wrong, try lower.\n",
            "Guess the number between 1 and 100, to quit write \"stop\"!30\n",
            "Wrong, try higer.\n",
            "Guess the number between 1 and 100, to quit write \"stop\"!33\n",
            "Wrong, try higer.\n",
            "Guess the number between 1 and 100, to quit write \"stop\"!37\n",
            "Wrong, try lower.\n",
            "Guess the number between 1 and 100, to quit write \"stop\"!35\n",
            "Cingratulations, you guessed the number!\n",
            "Guess the number between 1 and 100, to quit write \"stop\"!stop\n",
            "You stopped the game\n"
          ]
        }
      ]
    },
    {
      "cell_type": "markdown",
      "source": [
        "Individual Task - add deposit!"
      ],
      "metadata": {
        "id": "EHHEgqIh6iYq"
      }
    },
    {
      "cell_type": "code",
      "source": [
        "print(\"Hello! Welcome to the World's Best Bank.\")\n",
        "print(f\"The total amount of your balance is {balance}. \")\n",
        "\n",
        "balance = 0\n",
        "deposit = input(\"Please enter the amount of your deposit: \")\n",
        "\n",
        "deposit = int(deposit)\n",
        "balance = 0 + deposit\n",
        "print(f\"Your balance now is {balance} EUR.\")\n",
        "\n",
        "while True:\n",
        "  choiceOfDepositMore = input('To make an additional deposit, enter the amount of your next deposit. To stop depositing, type \"exit\". ')\n",
        "  if choiceOfDepositMore == \"exit\":\n",
        "    print(\"You have left your bank account. See you next time!\")\n",
        "    break\n",
        "  deposit = int(deposit)\n",
        "  choiceOfDepositMore = int(choiceOfDepositMore)\n",
        "  deposit += choiceOfDepositMore\n",
        "  print(f\"The deposit has been successfully added to your bank account. Your total balance now is: {deposit} EUR.\")\n"
      ],
      "metadata": {
        "colab": {
          "base_uri": "https://localhost:8080/"
        },
        "id": "Q5D1T3ig6o3s",
        "outputId": "4f553c30-7ef0-42ee-c3b1-7797abfa4779",
        "collapsed": true
      },
      "execution_count": null,
      "outputs": [
        {
          "output_type": "stream",
          "name": "stdout",
          "text": [
            "Hello! Welcome to the World's Best Bank.\n",
            "The total amount of your balance is 100. \n",
            "Please enter the amount of your deposit: 10\n",
            "Your balance now is 10 EUR.\n",
            "To make an additional deposit, enter the amount of your next deposit. To stop depositing, type \"exit\". 20\n",
            "The deposit has been successfully added to your bank account. Your total balance now is: 30 EUR.\n",
            "To make an additional deposit, enter the amount of your next deposit. To stop depositing, type \"exit\". exit\n",
            "You have left your bank account. See you next time!\n"
          ]
        }
      ]
    },
    {
      "cell_type": "markdown",
      "source": [
        "# **FUNCTIONS**"
      ],
      "metadata": {
        "id": "CwTfNO04k-Yu"
      }
    },
    {
      "cell_type": "code",
      "source": [
        "\n",
        "def cleaner(item, fluid, times):\n",
        "  print(f'I have cleaned the {item} with {fluid} {times} times')\n",
        "cleaner('smartphone', \"water\", 3)\n",
        "\n",
        "def sum_two_numbers(number_1, number_2):\n",
        "  return number_1 + number_2\n",
        "\n",
        "result = sum_two_numbers(4, 5)\n",
        "print(result)"
      ],
      "metadata": {
        "colab": {
          "base_uri": "https://localhost:8080/"
        },
        "id": "w5EeKDsUlGFF",
        "outputId": "d57b5931-4779-4790-b289-c7ecfe7e9fde"
      },
      "execution_count": null,
      "outputs": [
        {
          "output_type": "stream",
          "name": "stdout",
          "text": [
            "I have cleaned the smartphone with water 3 times\n",
            "9\n"
          ]
        }
      ]
    },
    {
      "cell_type": "code",
      "source": [
        "class Cat:\n",
        "  # __init__ method runs automatically\n",
        "  # when an object from this class is created\n",
        "  # this method also called a `constructor`\n",
        "  def __init__(self, name, age): #self is a requred parameter and refers to the instance\n",
        "    self.name = name\n",
        "    self.age = age\n",
        "\n",
        "  def voice(self, sound):\n",
        "    print(f'{sound}!')\n",
        "\n",
        "  def introduce(self):\n",
        "    print(f\"Hi, my name is {self.name}, I am {self.age} years old. Nice to meet you!\")\n",
        "\n",
        "cat1 = Cat('Coder', 3) # creare an instance of the class, called an object\n",
        "cat2 = Cat('Minka', 12) # creare an instance of the class, called an object\n",
        "cat3 = Cat('Miisu', 5) # creare an instance of the class, called an object\n",
        "\n",
        "print(cat1.age) # read the instance/object variable\n",
        "cat3.voice(\"Meow\")"
      ],
      "metadata": {
        "colab": {
          "base_uri": "https://localhost:8080/"
        },
        "id": "Z_AS9MUUxipI",
        "outputId": "5ec62bd1-e879-4be4-df03-aa32af63c9d7"
      },
      "execution_count": null,
      "outputs": [
        {
          "output_type": "stream",
          "name": "stdout",
          "text": [
            "3\n",
            "Meow!\n"
          ]
        }
      ]
    },
    {
      "cell_type": "code",
      "source": [
        "class Cat:\n",
        "\n",
        "  def __init__(self, name, age):\n",
        "    self.name = name\n",
        "    self.age = age\n",
        "    self.sound = 'Meow' # assigning a sound\n",
        "\n",
        "  def voice(self):\n",
        "    print(f'{self.sound}!')\n",
        "\n",
        "  def eat(self, food):\n",
        "    print(f'{self.name} is eating {food}')\n",
        "\n",
        "  def introduce(self):\n",
        "    print(f'Hi, my name is {self.name}, I am {self.age} years old. Nice to meet you!')\n",
        "\n",
        "cat1 = Cat('Coder', 3)\n",
        "cat2 = Cat('Minka', 12)\n",
        "cat3 = Cat('Miisu', 5)\n",
        "\n",
        "print(cat1.age)\n",
        "\n",
        "cat3.voice()\n",
        "cat1.voice()\n",
        "\n",
        "cat3.introduce()\n",
        "\n",
        "cat3.eat('Chicken meat')"
      ],
      "metadata": {
        "id": "2JjtT1dQAIjP"
      },
      "execution_count": null,
      "outputs": []
    },
    {
      "cell_type": "markdown",
      "source": [
        "# **Class**\n",
        "My Bank"
      ],
      "metadata": {
        "id": "4N1dm8akpEGA"
      }
    },
    {
      "cell_type": "code",
      "source": [
        "import datetime\n",
        "import json\n",
        "\n",
        "class Client:\n",
        "  number_of_clients = 0\n",
        "\n",
        "  def __init__(self, id, name):\n",
        "    self.id = id\n",
        "    self.name = name\n",
        "    self.accounts = []\n",
        "    Client.number_of_clients += 1\n",
        "\n",
        "  def add_account(self, account):\n",
        "    self.accounts.append(account)\n",
        "\n",
        "class Account:\n",
        "  def __init__(self, number, currency, balance = 0.0):\n",
        "   self.number = number\n",
        "   self.currency = currency\n",
        "   self.balance = balance\n",
        "   self.transactions = []\n",
        "\n",
        "  def make_deposit(self, amount, note):\n",
        "    self.transactions.append(Transaction(self.currency, amount, note ))\n",
        "    self.balance += amount\n",
        "\n",
        "  def make_withdrawal(self, amount, note):\n",
        "    self.transactions.append(Transaction(self.currency, -amount, note))\n",
        "    self.balance -= amount\n",
        "\n",
        "class Transaction:\n",
        "  def __init__(self, currency, amount, note): #šeit nelieku datetime, tapēc ka importēju automātiksu metodi\n",
        "    self.currency = currency\n",
        "    self.amount = amount\n",
        "    self.note = note\n",
        "    self.time_stamp = datetime.datetime.now()\n",
        "\n",
        "\n",
        "clients = []\n",
        "clients.append(Client('123456', 'Anna'))\n",
        "clients.append(Client('987654', 'Oskar'))\n",
        "clients.append(Client('456123', 'Jenifer'))\n",
        "\n",
        "clients[0].add_account(Account('EE079iohoih', \"EUR\", 1000))\n",
        "clients[0].add_account(Account('EC7780-oih', \"EUR\", 200.01))\n",
        "clients[0].add_account(Account('EE079i999h', \"EUR\"))\n",
        "clients[1].add_account(Account('AA079iohoih', \"US\"))\n",
        "clients[2].add_account(Account('ER07dfthoih', \"EUR\", 3000.55))\n",
        "\n",
        "clients[0].accounts[0].make_deposit( 1200, \"salary\")\n",
        "clients[0].accounts[0].make_withdrawal(50, \"grocery\")\n",
        "clients[0].accounts[0].make_withdrawal(100, \"clothes\")\n",
        "\n",
        "\n",
        "print(f'We have {Client.number_of_clients} clients in our bank:')\n",
        "for client in clients:\n",
        "  print(f'Client {client.name} has the following account:')\n",
        "  for account in client.accounts:\n",
        "    print(f'{account.number} ({account.currency}) {account.balance}')\n",
        "    for transaction in account.transactions:\n",
        "      print (f' {transaction.time_stamp} {transaction.currency} {transaction.amount}')"
      ],
      "metadata": {
        "colab": {
          "base_uri": "https://localhost:8080/"
        },
        "id": "rnu1jnX7pJRo",
        "outputId": "fa364a88-eb86-41cc-8080-580a24e848cd"
      },
      "execution_count": null,
      "outputs": [
        {
          "output_type": "stream",
          "name": "stdout",
          "text": [
            "We have 3 clients in our bank:\n",
            "Client Anna has the following account:\n",
            "EE079iohoih (EUR) 2050\n",
            " 2024-06-01 09:22:37.456190 EUR 1200\n",
            " 2024-06-01 09:22:37.456330 EUR -50\n",
            " 2024-06-01 09:22:37.456432 EUR -100\n",
            "EC7780-oih (EUR) 200.01\n",
            "EE079i999h (EUR) 0.0\n",
            "Client Oskar has the following account:\n",
            "AA079iohoih (US) 0.0\n",
            "Client Jenifer has the following account:\n",
            "ER07dfthoih (EUR) 3000.55\n"
          ]
        }
      ]
    },
    {
      "cell_type": "code",
      "source": [
        "# CSV - coma separated  value, very good if I have flat data\n"
      ],
      "metadata": {
        "id": "OxgofJ4nCRu9"
      },
      "execution_count": null,
      "outputs": []
    },
    {
      "cell_type": "markdown",
      "source": [
        "JSON - Java Script Object Notation\n",
        "\n",
        "{\n",
        "    \"clients\": [\n",
        "        {\n",
        "            \"id\": \"123456\",\n",
        "            \"name\": \"Anna\",\n",
        "            \"accounts\": [\n",
        "              {\n",
        "                \"number\": \"EE573784623652\",\n",
        "                \"currency\": \"EUR\",\n",
        "                \"balance\": 1000.00\n",
        "              },\n",
        "              {\n",
        "                \"number\": \"JP573765555652\",\n",
        "                \"currency\": \"JPY\",\n",
        "                \"balance\": 25000.00\n",
        "              },\n",
        "              {\n",
        "                \"number\": \"US655567778888\",\n",
        "                \"currency\": \"USD\",\n",
        "                \"balance\": 0\n",
        "              }\n",
        "            ]\n",
        "          },\n",
        "          {\n",
        "            \"id\": \"987654\",\n",
        "            \"name\": \"Oskar\",\n",
        "            \"accounts\": [\n",
        "              {\n",
        "                \"number\": \"PL849512635445\",\n",
        "                \"currency\": \"PLN\",\n",
        "                \"balance\": 47800.00\n",
        "              }\n",
        "            ]\n",
        "          },\n",
        "        {}\n",
        "    ]\n",
        "}"
      ],
      "metadata": {
        "id": "X8Opb8-OxIt6"
      }
    },
    {
      "cell_type": "code",
      "source": [
        "import json\n",
        "# Define student_details dictionary\n",
        "student_details ={\n",
        "    \"name\" : \"sathiyajith\",\n",
        "    \"rollno\" : 56,\n",
        "    \"cgpa\" : 8.6,\n",
        "    \"phonenumber\" : \"9976770500\"\n",
        "}\n",
        "\n",
        "# Convert and write JSON object to file\n",
        "with open(\"sample.json\", \"w\") as outfile:\n",
        "    json.dump(student_details, outfile)"
      ],
      "metadata": {
        "id": "XXqxf2NU8c__"
      },
      "execution_count": null,
      "outputs": []
    },
    {
      "cell_type": "markdown",
      "source": [
        "JSON to a dictionary"
      ],
      "metadata": {
        "id": "1Tlks6dVBtus"
      }
    },
    {
      "cell_type": "code",
      "source": [
        "\n",
        "\n",
        "# reading JSON into a dictionary\n",
        "import json\n",
        "\n",
        "with open('clients_data.json') as json_file:\n",
        "    data = json.load(json_file)\n",
        "\n",
        "for client in data:\n",
        "  print(f'{client[\"name\"]} ({client[\"id\"]})')"
      ],
      "metadata": {
        "colab": {
          "base_uri": "https://localhost:8080/",
          "height": 211
        },
        "id": "pPfonfbkBr5U",
        "outputId": "f849343f-7486-4836-9cb0-d91249bcb3fb"
      },
      "execution_count": null,
      "outputs": [
        {
          "output_type": "error",
          "ename": "FileNotFoundError",
          "evalue": "[Errno 2] No such file or directory: 'clients_data.json'",
          "traceback": [
            "\u001b[0;31m---------------------------------------------------------------------------\u001b[0m",
            "\u001b[0;31mFileNotFoundError\u001b[0m                         Traceback (most recent call last)",
            "\u001b[0;32m<ipython-input-6-1799cfdd0cba>\u001b[0m in \u001b[0;36m<cell line: 4>\u001b[0;34m()\u001b[0m\n\u001b[1;32m      2\u001b[0m \u001b[0;32mimport\u001b[0m \u001b[0mjson\u001b[0m\u001b[0;34m\u001b[0m\u001b[0;34m\u001b[0m\u001b[0m\n\u001b[1;32m      3\u001b[0m \u001b[0;34m\u001b[0m\u001b[0m\n\u001b[0;32m----> 4\u001b[0;31m \u001b[0;32mwith\u001b[0m \u001b[0mopen\u001b[0m\u001b[0;34m(\u001b[0m\u001b[0;34m'clients_data.json'\u001b[0m\u001b[0;34m)\u001b[0m \u001b[0;32mas\u001b[0m \u001b[0mjson_file\u001b[0m\u001b[0;34m:\u001b[0m\u001b[0;34m\u001b[0m\u001b[0;34m\u001b[0m\u001b[0m\n\u001b[0m\u001b[1;32m      5\u001b[0m     \u001b[0mdata\u001b[0m \u001b[0;34m=\u001b[0m \u001b[0mjson\u001b[0m\u001b[0;34m.\u001b[0m\u001b[0mload\u001b[0m\u001b[0;34m(\u001b[0m\u001b[0mjson_file\u001b[0m\u001b[0;34m)\u001b[0m\u001b[0;34m\u001b[0m\u001b[0;34m\u001b[0m\u001b[0m\n\u001b[1;32m      6\u001b[0m \u001b[0;34m\u001b[0m\u001b[0m\n",
            "\u001b[0;31mFileNotFoundError\u001b[0m: [Errno 2] No such file or directory: 'clients_data.json'"
          ]
        }
      ]
    },
    {
      "cell_type": "code",
      "source": [
        "# JSON !!! This code creates json and data in it\n",
        "import datetime\n",
        "import json\n",
        "\n",
        "class Client:\n",
        "    number_of_clients = 0\n",
        "\n",
        "    def __init__(self, id, name):\n",
        "        self.id = id\n",
        "        self.name = name\n",
        "        self.accounts = []\n",
        "        Client.number_of_clients += 1\n",
        "\n",
        "    def add_account(self, account):\n",
        "        self.accounts.append(account)\n",
        "\n",
        "    def to_dict(self):\n",
        "        return {\n",
        "            'id': self.id,\n",
        "            'name': self.name,\n",
        "            'accounts': [account.to_dict() for account in self.accounts]\n",
        "        }\n",
        "\n",
        "class Account:\n",
        "    def __init__(self, number, currency, balance=0.0):\n",
        "        self.number = number\n",
        "        self.currency = currency\n",
        "        self.balance = balance\n",
        "        self.transactions = []\n",
        "\n",
        "    def make_deposit(self, amount, note):\n",
        "        self.transactions.append(Transaction(self.currency, amount, note))\n",
        "        self.balance += amount\n",
        "\n",
        "    def make_withdrawal(self, amount, note):\n",
        "        self.transactions.append(Transaction(self.currency, -amount, note))\n",
        "        self.balance -= amount\n",
        "\n",
        "    def to_dict(self):\n",
        "        return {\n",
        "            'number': self.number,\n",
        "            'currency': self.currency,\n",
        "            'balance': self.balance,\n",
        "            'transactions': [transaction.to_dict() for transaction in self.transactions]\n",
        "        }\n",
        "\n",
        "class Transaction:\n",
        "    def __init__(self, currency, amount, note):\n",
        "        self.currency = currency\n",
        "        self.amount = amount\n",
        "        self.note = note\n",
        "        self.time_stamp = datetime.datetime.now()\n",
        "\n",
        "    def to_dict(self):\n",
        "        return {\n",
        "            'currency': self.currency,\n",
        "            'amount': self.amount,\n",
        "            'note': self.note,\n",
        "            'time_stamp': self.time_stamp.isoformat()\n",
        "        }\n",
        "\n",
        "# now, let us work using those classes\n",
        "# adding clients to a list\n",
        "clients = []\n",
        "clients.append(Client('123456', 'Anna'))\n",
        "clients.append(Client('987654', 'Oskar'))\n",
        "clients.append(Client('456123', 'Jenifer'))\n",
        "\n",
        "# adding accounts to clients\n",
        "clients[0].add_account(Account('EE654987564321', 'EUR', 1000.0))\n",
        "clients[0].add_account(Account('JP582147859635', 'JPY', 25000.30))\n",
        "clients[0].add_account(Account('US654987643214', 'USD'))\n",
        "clients[1].add_account(Account('PL849512635445', 'PLN', 47800.00))\n",
        "clients[2].add_account(Account('SE741254956587', 'SEK', 200.18))\n",
        "\n",
        "# let's make some transactions\n",
        "clients[0].accounts[0].make_deposit(1200, 'Salary')\n",
        "clients[0].accounts[0].make_withdrawal(50, 'Grocery')\n",
        "clients[0].accounts[0].make_withdrawal(140, 'Clothes')\n",
        "clients[0].accounts[0].make_withdrawal(20, 'Dinner')\n",
        "\n",
        "# Collect all client data into a dictionary\n",
        "clients_data = [client.to_dict() for client in clients]\n",
        "\n",
        "# Save the data to a JSON file\n",
        "with open(\"clients_data.json\", \"w\") as outfile:\n",
        "    json.dump(clients_data, outfile, indent=4)"
      ],
      "metadata": {
        "id": "0uu58t7M_yOO"
      },
      "execution_count": null,
      "outputs": []
    },
    {
      "cell_type": "markdown",
      "source": [
        "# **INDIVIDUAL TASK**"
      ],
      "metadata": {
        "id": "xm26lu_LWtLi"
      }
    },
    {
      "cell_type": "code",
      "source": [
        "class Client:\n",
        "    number_of_clients = 0\n",
        "\n",
        "    def __init__(self, client_id, name):\n",
        "        self.client_id = client_id\n",
        "        self.name = name\n",
        "        self.transactions = []\n",
        "        Client.number_of_clients += 1\n",
        "\n",
        "    def add_transaction(self, transaction):\n",
        "        self.transactions.append(transaction)\n",
        "\n",
        "class Item:\n",
        "    def __init__(self, item_id, name, price):\n",
        "        self.item_id = item_id\n",
        "        self.name = name\n",
        "        self.price = price\n",
        "\n",
        "    def display_info(self):\n",
        "        formatted_price = f\"EUR {self.price:,.2f}\"\n",
        "        return f\"Item ID: {self.item_id}, Name: {self.name}, Price: {formatted_price}\"\n",
        "\n",
        "class Transaction:\n",
        "    def __init__(self, transaction_id, client, items):\n",
        "        self.transaction_id = transaction_id\n",
        "        self.client = client\n",
        "        self.items = items\n",
        "\n",
        "    def display_details(self):\n",
        "        item_list = \"\\n\".join([item.display_info() for item in self.items])\n",
        "        return f\"Transaction ID: {self.transaction_id}\\nItems:\\n{item_list}\"\n",
        "\n",
        "clients = [\n",
        "    Client(1, \"Agnese\"),\n",
        "    Client(2, \"Baiba\"),\n",
        "    Client(3, \"Andris\")\n",
        "]\n",
        "\n",
        "items = [\n",
        "    Item(1, \"BMW\", 110000.00),\n",
        "    Item(2, \"Mercedes-Benz\", 120000.00),\n",
        "    Item(3, \"Audi\", 80000.00)\n",
        "]\n",
        "\n",
        "transactions = [\n",
        "    Transaction(1, clients[0], [items[0], items[2]]),\n",
        "    Transaction(2, clients[1], [items[1]]),\n",
        "    Transaction(3, clients[2], [items[0]])\n",
        "]\n",
        "\n",
        "clients[0].add_transaction(transactions[0])\n",
        "clients[1].add_transaction(transactions[1])\n",
        "clients[2].add_transaction(transactions[2])\n",
        "\n",
        "print(\"All Clients:\")\n",
        "for client in clients:\n",
        "    print(f\"Client ID: {client.client_id}, Name: \\033[1m{client.name}\\033[0m:\")\n",
        "    print(\"Transactions:\")\n",
        "    for transaction in client.transactions:\n",
        "        print(transaction.display_details())\n",
        "        print(\"Items Purchased:\")\n",
        "        for item in transaction.items:\n",
        "            print(f\"\\t{item.display_info()}\")\n",
        "        print()\n",
        "\n",
        "\n"
      ],
      "metadata": {
        "colab": {
          "base_uri": "https://localhost:8080/"
        },
        "id": "SHpUZPmPW6sa",
        "outputId": "0f27109e-2e1a-422f-aae8-11e50f72369a"
      },
      "execution_count": null,
      "outputs": [
        {
          "output_type": "stream",
          "name": "stdout",
          "text": [
            "All Clients:\n",
            "Client ID: 1, Name: \u001b[1mAgnese\u001b[0m:\n",
            "Transactions:\n",
            "Transaction ID: 1\n",
            "Items:\n",
            "Item ID: 1, Name: BMW, Price: EUR 110,000.00\n",
            "Item ID: 3, Name: Audi, Price: EUR 80,000.00\n",
            "Items Purchased:\n",
            "\tItem ID: 1, Name: BMW, Price: EUR 110,000.00\n",
            "\tItem ID: 3, Name: Audi, Price: EUR 80,000.00\n",
            "\n",
            "Client ID: 2, Name: \u001b[1mBaiba\u001b[0m:\n",
            "Transactions:\n",
            "Transaction ID: 2\n",
            "Items:\n",
            "Item ID: 2, Name: Mercedes-Benz, Price: EUR 120,000.00\n",
            "Items Purchased:\n",
            "\tItem ID: 2, Name: Mercedes-Benz, Price: EUR 120,000.00\n",
            "\n",
            "Client ID: 3, Name: \u001b[1mAndris\u001b[0m:\n",
            "Transactions:\n",
            "Transaction ID: 3\n",
            "Items:\n",
            "Item ID: 1, Name: BMW, Price: EUR 110,000.00\n",
            "Items Purchased:\n",
            "\tItem ID: 1, Name: BMW, Price: EUR 110,000.00\n",
            "\n"
          ]
        }
      ]
    },
    {
      "cell_type": "code",
      "source": [
        "filename = '/content/births.txt'\n",
        "with open(filename, 'r') as file:\n",
        "  content = file.read()\n",
        "\n",
        "print('Standard File I/O')\n",
        "print(content)\n",
        "\n",
        "\n",
        "#for line in content:\n",
        "  #print(line)   ---> šis katru char izpintēs taseviški un viss būs kollonā uz leju\n",
        "\n"
      ],
      "metadata": {
        "colab": {
          "base_uri": "https://localhost:8080/"
        },
        "collapsed": true,
        "id": "mFOKgHu-vVdA",
        "outputId": "63adca8e-da76-498f-9144-bbe6ffb0bd03"
      },
      "execution_count": null,
      "outputs": [
        {
          "output_type": "stream",
          "name": "stdout",
          "text": [
            "Jan 1048\n",
            "Feb 989\n",
            "Mar 1108\n",
            "Apr 1207\n",
            "May 1186\n",
            "Jun 1155\n",
            "Jul 1391\n",
            "Aug 1305\n",
            "Sep 1226\n",
            "Oct 1155\n",
            "Nov 1017\n",
            "Dec 1111\n",
            "\n",
            "Standard File I/O\n",
            "J\n",
            "a\n",
            "n\n",
            " \n",
            "1\n",
            "0\n",
            "4\n",
            "8\n",
            "\n",
            "\n",
            "F\n",
            "e\n",
            "b\n",
            " \n",
            "9\n",
            "8\n",
            "9\n",
            "\n",
            "\n",
            "M\n",
            "a\n",
            "r\n",
            " \n",
            "1\n",
            "1\n",
            "0\n",
            "8\n",
            "\n",
            "\n",
            "A\n",
            "p\n",
            "r\n",
            " \n",
            "1\n",
            "2\n",
            "0\n",
            "7\n",
            "\n",
            "\n",
            "M\n",
            "a\n",
            "y\n",
            " \n",
            "1\n",
            "1\n",
            "8\n",
            "6\n",
            "\n",
            "\n",
            "J\n",
            "u\n",
            "n\n",
            " \n",
            "1\n",
            "1\n",
            "5\n",
            "5\n",
            "\n",
            "\n",
            "J\n",
            "u\n",
            "l\n",
            " \n",
            "1\n",
            "3\n",
            "9\n",
            "1\n",
            "\n",
            "\n",
            "A\n",
            "u\n",
            "g\n",
            " \n",
            "1\n",
            "3\n",
            "0\n",
            "5\n",
            "\n",
            "\n",
            "S\n",
            "e\n",
            "p\n",
            " \n",
            "1\n",
            "2\n",
            "2\n",
            "6\n",
            "\n",
            "\n",
            "O\n",
            "c\n",
            "t\n",
            " \n",
            "1\n",
            "1\n",
            "5\n",
            "5\n",
            "\n",
            "\n",
            "N\n",
            "o\n",
            "v\n",
            " \n",
            "1\n",
            "0\n",
            "1\n",
            "7\n",
            "\n",
            "\n",
            "D\n",
            "e\n",
            "c\n",
            " \n",
            "1\n",
            "1\n",
            "1\n",
            "1\n",
            "\n",
            "\n"
          ]
        }
      ]
    },
    {
      "cell_type": "code",
      "source": [
        "\n",
        "for line in content:\n",
        "  print(line, end='')"
      ],
      "metadata": {
        "colab": {
          "base_uri": "https://localhost:8080/"
        },
        "id": "LF4f2l0Dx2Vo",
        "outputId": "4eeb6ea3-db58-437f-abae-fbbd83bfe1ed"
      },
      "execution_count": null,
      "outputs": [
        {
          "output_type": "stream",
          "name": "stdout",
          "text": [
            "Jan 1048\n",
            "Feb 989\n",
            "Mar 1108\n",
            "Apr 1207\n",
            "May 1186\n",
            "Jun 1155\n",
            "Jul 1391\n",
            "Aug 1305\n",
            "Sep 1226\n",
            "Oct 1155\n",
            "Nov 1017\n",
            "Dec 1111\n"
          ]
        }
      ]
    },
    {
      "cell_type": "code",
      "source": [
        "filename = input(\"Enter the filename: \")\n",
        "\n",
        "try:\n",
        "    with open(filename, 'r') as file:\n",
        "        content = file.readlines()\n",
        "\n",
        "    print('Standard File I/O')\n",
        "    print(content)\n",
        "except FileNotFoundError:\n",
        "    print(f\"Error: The file '{filename}' was not found.\")\n",
        "\n"
      ],
      "metadata": {
        "colab": {
          "base_uri": "https://localhost:8080/"
        },
        "id": "AgZ9iYTwyVN2",
        "outputId": "6316a49a-f1c5-456b-ea68-9990dfe695ab"
      },
      "execution_count": null,
      "outputs": [
        {
          "output_type": "stream",
          "name": "stdout",
          "text": [
            "Enter the filename: /content/births.txt\n",
            "Standard File I/O\n",
            "['Jan 1048\\n', 'Feb 989\\n', 'Mar 1108\\n', 'Apr 1207\\n', 'May 1186\\n', 'Jun 1155\\n', 'Jul 1391\\n', 'Aug 1305\\n', 'Sep 1226\\n', 'Oct 1155\\n', 'Nov 1017\\n', 'Dec 1111\\n']\n"
          ]
        }
      ]
    },
    {
      "cell_type": "code",
      "source": [
        "\n",
        "\n",
        "\n",
        "with open('/content/births.txt', 'r') as file:\n",
        "    births = file.readlines()\n",
        "for birthline in births:\n",
        "  print(birthline[4:]) #ar šo izdrukāju visu kas ir pēc trešā simbola katrā līnijā\n",
        "\n",
        "birth_sum = 0\n",
        "for birthline in births:\n",
        "    birth_sum = birth_sum + int(birthline[4:])\n",
        "\n",
        "print(birth_sum)\n",
        "\n"
      ],
      "metadata": {
        "colab": {
          "base_uri": "https://localhost:8080/"
        },
        "collapsed": true,
        "id": "zaCg1pqszpY5",
        "outputId": "2929112e-57ef-4391-ba77-468397f9cab3"
      },
      "execution_count": null,
      "outputs": [
        {
          "output_type": "stream",
          "name": "stdout",
          "text": [
            "1048\n",
            "\n",
            "989\n",
            "\n",
            "1108\n",
            "\n",
            "1207\n",
            "\n",
            "1186\n",
            "\n",
            "1155\n",
            "\n",
            "1391\n",
            "\n",
            "1305\n",
            "\n",
            "1226\n",
            "\n",
            "1155\n",
            "\n",
            "1017\n",
            "\n",
            "1111\n",
            "\n",
            "13898\n"
          ]
        }
      ]
    },
    {
      "cell_type": "code",
      "source": [
        "with open('/content/births.txt', 'r') as file:\n",
        "    births = file.readlines() #LIST, separated by coma\n",
        "\n",
        "with open('/content/deaths.txt', 'r') as file:\n",
        "    deaths = file.readlines()\n",
        "\n",
        "for i in range(len(births)):\n",
        "  birthline = births[i]\n",
        "  deathline = deaths [i]\n",
        "\n",
        "  birthnumber = int(birthline[4:])\n",
        "  deathnumber = int(deathline[4:])\n",
        "\n",
        "  growth = birthnumber - deathnumber\n",
        "\n",
        "  print(growth)\n",
        "\n",
        "  month = birthline[:3]\n",
        "  if growth  > 0 :\n",
        "    print(month, growth) #šis izprintē tos mēnešus tikai kur dzimstība lielāka par mirstību\n",
        "\n",
        "\n"
      ],
      "metadata": {
        "colab": {
          "base_uri": "https://localhost:8080/"
        },
        "id": "3U3xfKD54KGn",
        "outputId": "1189ec0c-522c-49e5-91cc-2bfa8a09d5f3"
      },
      "execution_count": null,
      "outputs": [
        {
          "output_type": "stream",
          "name": "stdout",
          "text": [
            "-527\n",
            "-178\n",
            "-141\n",
            "-74\n",
            "-117\n",
            "40\n",
            "Jun 40\n",
            "64\n",
            "Jul 64\n",
            "103\n",
            "Aug 103\n",
            "49\n",
            "Sep 49\n",
            "-110\n",
            "-201\n",
            "-248\n"
          ]
        }
      ]
    },
    {
      "cell_type": "markdown",
      "source": [
        "PANDAS libary - for data ussualy"
      ],
      "metadata": {
        "id": "6LFh33XjARdp"
      }
    },
    {
      "cell_type": "code",
      "source": [
        "import pandas as pd\n",
        "\n",
        "births = pd.read_csv('/content/births.txt', header=None, delimiter = ' ')\n",
        "\n",
        "birth_column_names = ['Month', 'Nr of Births']\n",
        "births.columns = birth_column_names # īsāk var šādi to pašu panākt: births.columns = ['Month', 'Number']\n",
        "births\n"
      ],
      "metadata": {
        "colab": {
          "base_uri": "https://localhost:8080/",
          "height": 425
        },
        "id": "ip8NYbN0AUlw",
        "outputId": "30c1e122-c2c8-4e0b-da30-2cf2666c92d3"
      },
      "execution_count": null,
      "outputs": [
        {
          "output_type": "execute_result",
          "data": {
            "text/plain": [
              "   Month  Nr of Deaths\n",
              "0    Jan          1575\n",
              "1    Feb          1167\n",
              "2    Mar          1249\n",
              "3    Apr          1281\n",
              "4    May          1303\n",
              "5    Jun          1115\n",
              "6    Jul          1327\n",
              "7    Aug          1202\n",
              "8    Sep          1177\n",
              "9    Oct          1265\n",
              "10   Nov          1218\n",
              "11   Dec          1359"
            ],
            "text/html": [
              "\n",
              "  <div id=\"df-60bcecc8-fcd4-4ddb-a763-c2216aac81d1\" class=\"colab-df-container\">\n",
              "    <div>\n",
              "<style scoped>\n",
              "    .dataframe tbody tr th:only-of-type {\n",
              "        vertical-align: middle;\n",
              "    }\n",
              "\n",
              "    .dataframe tbody tr th {\n",
              "        vertical-align: top;\n",
              "    }\n",
              "\n",
              "    .dataframe thead th {\n",
              "        text-align: right;\n",
              "    }\n",
              "</style>\n",
              "<table border=\"1\" class=\"dataframe\">\n",
              "  <thead>\n",
              "    <tr style=\"text-align: right;\">\n",
              "      <th></th>\n",
              "      <th>Month</th>\n",
              "      <th>Nr of Deaths</th>\n",
              "    </tr>\n",
              "  </thead>\n",
              "  <tbody>\n",
              "    <tr>\n",
              "      <th>0</th>\n",
              "      <td>Jan</td>\n",
              "      <td>1575</td>\n",
              "    </tr>\n",
              "    <tr>\n",
              "      <th>1</th>\n",
              "      <td>Feb</td>\n",
              "      <td>1167</td>\n",
              "    </tr>\n",
              "    <tr>\n",
              "      <th>2</th>\n",
              "      <td>Mar</td>\n",
              "      <td>1249</td>\n",
              "    </tr>\n",
              "    <tr>\n",
              "      <th>3</th>\n",
              "      <td>Apr</td>\n",
              "      <td>1281</td>\n",
              "    </tr>\n",
              "    <tr>\n",
              "      <th>4</th>\n",
              "      <td>May</td>\n",
              "      <td>1303</td>\n",
              "    </tr>\n",
              "    <tr>\n",
              "      <th>5</th>\n",
              "      <td>Jun</td>\n",
              "      <td>1115</td>\n",
              "    </tr>\n",
              "    <tr>\n",
              "      <th>6</th>\n",
              "      <td>Jul</td>\n",
              "      <td>1327</td>\n",
              "    </tr>\n",
              "    <tr>\n",
              "      <th>7</th>\n",
              "      <td>Aug</td>\n",
              "      <td>1202</td>\n",
              "    </tr>\n",
              "    <tr>\n",
              "      <th>8</th>\n",
              "      <td>Sep</td>\n",
              "      <td>1177</td>\n",
              "    </tr>\n",
              "    <tr>\n",
              "      <th>9</th>\n",
              "      <td>Oct</td>\n",
              "      <td>1265</td>\n",
              "    </tr>\n",
              "    <tr>\n",
              "      <th>10</th>\n",
              "      <td>Nov</td>\n",
              "      <td>1218</td>\n",
              "    </tr>\n",
              "    <tr>\n",
              "      <th>11</th>\n",
              "      <td>Dec</td>\n",
              "      <td>1359</td>\n",
              "    </tr>\n",
              "  </tbody>\n",
              "</table>\n",
              "</div>\n",
              "    <div class=\"colab-df-buttons\">\n",
              "\n",
              "  <div class=\"colab-df-container\">\n",
              "    <button class=\"colab-df-convert\" onclick=\"convertToInteractive('df-60bcecc8-fcd4-4ddb-a763-c2216aac81d1')\"\n",
              "            title=\"Convert this dataframe to an interactive table.\"\n",
              "            style=\"display:none;\">\n",
              "\n",
              "  <svg xmlns=\"http://www.w3.org/2000/svg\" height=\"24px\" viewBox=\"0 -960 960 960\">\n",
              "    <path d=\"M120-120v-720h720v720H120Zm60-500h600v-160H180v160Zm220 220h160v-160H400v160Zm0 220h160v-160H400v160ZM180-400h160v-160H180v160Zm440 0h160v-160H620v160ZM180-180h160v-160H180v160Zm440 0h160v-160H620v160Z\"/>\n",
              "  </svg>\n",
              "    </button>\n",
              "\n",
              "  <style>\n",
              "    .colab-df-container {\n",
              "      display:flex;\n",
              "      gap: 12px;\n",
              "    }\n",
              "\n",
              "    .colab-df-convert {\n",
              "      background-color: #E8F0FE;\n",
              "      border: none;\n",
              "      border-radius: 50%;\n",
              "      cursor: pointer;\n",
              "      display: none;\n",
              "      fill: #1967D2;\n",
              "      height: 32px;\n",
              "      padding: 0 0 0 0;\n",
              "      width: 32px;\n",
              "    }\n",
              "\n",
              "    .colab-df-convert:hover {\n",
              "      background-color: #E2EBFA;\n",
              "      box-shadow: 0px 1px 2px rgba(60, 64, 67, 0.3), 0px 1px 3px 1px rgba(60, 64, 67, 0.15);\n",
              "      fill: #174EA6;\n",
              "    }\n",
              "\n",
              "    .colab-df-buttons div {\n",
              "      margin-bottom: 4px;\n",
              "    }\n",
              "\n",
              "    [theme=dark] .colab-df-convert {\n",
              "      background-color: #3B4455;\n",
              "      fill: #D2E3FC;\n",
              "    }\n",
              "\n",
              "    [theme=dark] .colab-df-convert:hover {\n",
              "      background-color: #434B5C;\n",
              "      box-shadow: 0px 1px 3px 1px rgba(0, 0, 0, 0.15);\n",
              "      filter: drop-shadow(0px 1px 2px rgba(0, 0, 0, 0.3));\n",
              "      fill: #FFFFFF;\n",
              "    }\n",
              "  </style>\n",
              "\n",
              "    <script>\n",
              "      const buttonEl =\n",
              "        document.querySelector('#df-60bcecc8-fcd4-4ddb-a763-c2216aac81d1 button.colab-df-convert');\n",
              "      buttonEl.style.display =\n",
              "        google.colab.kernel.accessAllowed ? 'block' : 'none';\n",
              "\n",
              "      async function convertToInteractive(key) {\n",
              "        const element = document.querySelector('#df-60bcecc8-fcd4-4ddb-a763-c2216aac81d1');\n",
              "        const dataTable =\n",
              "          await google.colab.kernel.invokeFunction('convertToInteractive',\n",
              "                                                    [key], {});\n",
              "        if (!dataTable) return;\n",
              "\n",
              "        const docLinkHtml = 'Like what you see? Visit the ' +\n",
              "          '<a target=\"_blank\" href=https://colab.research.google.com/notebooks/data_table.ipynb>data table notebook</a>'\n",
              "          + ' to learn more about interactive tables.';\n",
              "        element.innerHTML = '';\n",
              "        dataTable['output_type'] = 'display_data';\n",
              "        await google.colab.output.renderOutput(dataTable, element);\n",
              "        const docLink = document.createElement('div');\n",
              "        docLink.innerHTML = docLinkHtml;\n",
              "        element.appendChild(docLink);\n",
              "      }\n",
              "    </script>\n",
              "  </div>\n",
              "\n",
              "\n",
              "<div id=\"df-af0b606b-3b19-49f4-8b0c-639faba4447c\">\n",
              "  <button class=\"colab-df-quickchart\" onclick=\"quickchart('df-af0b606b-3b19-49f4-8b0c-639faba4447c')\"\n",
              "            title=\"Suggest charts\"\n",
              "            style=\"display:none;\">\n",
              "\n",
              "<svg xmlns=\"http://www.w3.org/2000/svg\" height=\"24px\"viewBox=\"0 0 24 24\"\n",
              "     width=\"24px\">\n",
              "    <g>\n",
              "        <path d=\"M19 3H5c-1.1 0-2 .9-2 2v14c0 1.1.9 2 2 2h14c1.1 0 2-.9 2-2V5c0-1.1-.9-2-2-2zM9 17H7v-7h2v7zm4 0h-2V7h2v10zm4 0h-2v-4h2v4z\"/>\n",
              "    </g>\n",
              "</svg>\n",
              "  </button>\n",
              "\n",
              "<style>\n",
              "  .colab-df-quickchart {\n",
              "      --bg-color: #E8F0FE;\n",
              "      --fill-color: #1967D2;\n",
              "      --hover-bg-color: #E2EBFA;\n",
              "      --hover-fill-color: #174EA6;\n",
              "      --disabled-fill-color: #AAA;\n",
              "      --disabled-bg-color: #DDD;\n",
              "  }\n",
              "\n",
              "  [theme=dark] .colab-df-quickchart {\n",
              "      --bg-color: #3B4455;\n",
              "      --fill-color: #D2E3FC;\n",
              "      --hover-bg-color: #434B5C;\n",
              "      --hover-fill-color: #FFFFFF;\n",
              "      --disabled-bg-color: #3B4455;\n",
              "      --disabled-fill-color: #666;\n",
              "  }\n",
              "\n",
              "  .colab-df-quickchart {\n",
              "    background-color: var(--bg-color);\n",
              "    border: none;\n",
              "    border-radius: 50%;\n",
              "    cursor: pointer;\n",
              "    display: none;\n",
              "    fill: var(--fill-color);\n",
              "    height: 32px;\n",
              "    padding: 0;\n",
              "    width: 32px;\n",
              "  }\n",
              "\n",
              "  .colab-df-quickchart:hover {\n",
              "    background-color: var(--hover-bg-color);\n",
              "    box-shadow: 0 1px 2px rgba(60, 64, 67, 0.3), 0 1px 3px 1px rgba(60, 64, 67, 0.15);\n",
              "    fill: var(--button-hover-fill-color);\n",
              "  }\n",
              "\n",
              "  .colab-df-quickchart-complete:disabled,\n",
              "  .colab-df-quickchart-complete:disabled:hover {\n",
              "    background-color: var(--disabled-bg-color);\n",
              "    fill: var(--disabled-fill-color);\n",
              "    box-shadow: none;\n",
              "  }\n",
              "\n",
              "  .colab-df-spinner {\n",
              "    border: 2px solid var(--fill-color);\n",
              "    border-color: transparent;\n",
              "    border-bottom-color: var(--fill-color);\n",
              "    animation:\n",
              "      spin 1s steps(1) infinite;\n",
              "  }\n",
              "\n",
              "  @keyframes spin {\n",
              "    0% {\n",
              "      border-color: transparent;\n",
              "      border-bottom-color: var(--fill-color);\n",
              "      border-left-color: var(--fill-color);\n",
              "    }\n",
              "    20% {\n",
              "      border-color: transparent;\n",
              "      border-left-color: var(--fill-color);\n",
              "      border-top-color: var(--fill-color);\n",
              "    }\n",
              "    30% {\n",
              "      border-color: transparent;\n",
              "      border-left-color: var(--fill-color);\n",
              "      border-top-color: var(--fill-color);\n",
              "      border-right-color: var(--fill-color);\n",
              "    }\n",
              "    40% {\n",
              "      border-color: transparent;\n",
              "      border-right-color: var(--fill-color);\n",
              "      border-top-color: var(--fill-color);\n",
              "    }\n",
              "    60% {\n",
              "      border-color: transparent;\n",
              "      border-right-color: var(--fill-color);\n",
              "    }\n",
              "    80% {\n",
              "      border-color: transparent;\n",
              "      border-right-color: var(--fill-color);\n",
              "      border-bottom-color: var(--fill-color);\n",
              "    }\n",
              "    90% {\n",
              "      border-color: transparent;\n",
              "      border-bottom-color: var(--fill-color);\n",
              "    }\n",
              "  }\n",
              "</style>\n",
              "\n",
              "  <script>\n",
              "    async function quickchart(key) {\n",
              "      const quickchartButtonEl =\n",
              "        document.querySelector('#' + key + ' button');\n",
              "      quickchartButtonEl.disabled = true;  // To prevent multiple clicks.\n",
              "      quickchartButtonEl.classList.add('colab-df-spinner');\n",
              "      try {\n",
              "        const charts = await google.colab.kernel.invokeFunction(\n",
              "            'suggestCharts', [key], {});\n",
              "      } catch (error) {\n",
              "        console.error('Error during call to suggestCharts:', error);\n",
              "      }\n",
              "      quickchartButtonEl.classList.remove('colab-df-spinner');\n",
              "      quickchartButtonEl.classList.add('colab-df-quickchart-complete');\n",
              "    }\n",
              "    (() => {\n",
              "      let quickchartButtonEl =\n",
              "        document.querySelector('#df-af0b606b-3b19-49f4-8b0c-639faba4447c button');\n",
              "      quickchartButtonEl.style.display =\n",
              "        google.colab.kernel.accessAllowed ? 'block' : 'none';\n",
              "    })();\n",
              "  </script>\n",
              "</div>\n",
              "    </div>\n",
              "  </div>\n"
            ],
            "application/vnd.google.colaboratory.intrinsic+json": {
              "type": "dataframe",
              "variable_name": "deaths",
              "summary": "{\n  \"name\": \"deaths\",\n  \"rows\": 12,\n  \"fields\": [\n    {\n      \"column\": \"Month\",\n      \"properties\": {\n        \"dtype\": \"string\",\n        \"num_unique_values\": 12,\n        \"samples\": [\n          \"Nov\",\n          \"Oct\",\n          \"Jan\"\n        ],\n        \"semantic_type\": \"\",\n        \"description\": \"\"\n      }\n    },\n    {\n      \"column\": \"Nr of Deaths\",\n      \"properties\": {\n        \"dtype\": \"number\",\n        \"std\": 119,\n        \"min\": 1115,\n        \"max\": 1575,\n        \"num_unique_values\": 12,\n        \"samples\": [\n          1218,\n          1265,\n          1575\n        ],\n        \"semantic_type\": \"\",\n        \"description\": \"\"\n      }\n    }\n  ]\n}"
            }
          },
          "metadata": {},
          "execution_count": 41
        }
      ]
    },
    {
      "cell_type": "code",
      "source": [
        "deaths = pd.read_csv('/content/deaths.txt', header=None, delimiter = ' ')\n",
        "\n",
        "death_column_names = ['Month', 'Nr of Deaths']\n",
        "deaths.columns = death_column_names\n",
        "deaths"
      ],
      "metadata": {
        "colab": {
          "base_uri": "https://localhost:8080/",
          "height": 425
        },
        "id": "jIk0hw_tD8uW",
        "outputId": "b2340f49-4dca-4f57-de1a-4b86ee25fe72",
        "collapsed": true
      },
      "execution_count": null,
      "outputs": [
        {
          "output_type": "execute_result",
          "data": {
            "text/plain": [
              "   Month  Nr of Deaths\n",
              "0    Jan          1575\n",
              "1    Feb          1167\n",
              "2    Mar          1249\n",
              "3    Apr          1281\n",
              "4    May          1303\n",
              "5    Jun          1115\n",
              "6    Jul          1327\n",
              "7    Aug          1202\n",
              "8    Sep          1177\n",
              "9    Oct          1265\n",
              "10   Nov          1218\n",
              "11   Dec          1359"
            ],
            "text/html": [
              "\n",
              "  <div id=\"df-a62d3f9f-c3ff-4104-98e4-7afa1e9031a9\" class=\"colab-df-container\">\n",
              "    <div>\n",
              "<style scoped>\n",
              "    .dataframe tbody tr th:only-of-type {\n",
              "        vertical-align: middle;\n",
              "    }\n",
              "\n",
              "    .dataframe tbody tr th {\n",
              "        vertical-align: top;\n",
              "    }\n",
              "\n",
              "    .dataframe thead th {\n",
              "        text-align: right;\n",
              "    }\n",
              "</style>\n",
              "<table border=\"1\" class=\"dataframe\">\n",
              "  <thead>\n",
              "    <tr style=\"text-align: right;\">\n",
              "      <th></th>\n",
              "      <th>Month</th>\n",
              "      <th>Nr of Deaths</th>\n",
              "    </tr>\n",
              "  </thead>\n",
              "  <tbody>\n",
              "    <tr>\n",
              "      <th>0</th>\n",
              "      <td>Jan</td>\n",
              "      <td>1575</td>\n",
              "    </tr>\n",
              "    <tr>\n",
              "      <th>1</th>\n",
              "      <td>Feb</td>\n",
              "      <td>1167</td>\n",
              "    </tr>\n",
              "    <tr>\n",
              "      <th>2</th>\n",
              "      <td>Mar</td>\n",
              "      <td>1249</td>\n",
              "    </tr>\n",
              "    <tr>\n",
              "      <th>3</th>\n",
              "      <td>Apr</td>\n",
              "      <td>1281</td>\n",
              "    </tr>\n",
              "    <tr>\n",
              "      <th>4</th>\n",
              "      <td>May</td>\n",
              "      <td>1303</td>\n",
              "    </tr>\n",
              "    <tr>\n",
              "      <th>5</th>\n",
              "      <td>Jun</td>\n",
              "      <td>1115</td>\n",
              "    </tr>\n",
              "    <tr>\n",
              "      <th>6</th>\n",
              "      <td>Jul</td>\n",
              "      <td>1327</td>\n",
              "    </tr>\n",
              "    <tr>\n",
              "      <th>7</th>\n",
              "      <td>Aug</td>\n",
              "      <td>1202</td>\n",
              "    </tr>\n",
              "    <tr>\n",
              "      <th>8</th>\n",
              "      <td>Sep</td>\n",
              "      <td>1177</td>\n",
              "    </tr>\n",
              "    <tr>\n",
              "      <th>9</th>\n",
              "      <td>Oct</td>\n",
              "      <td>1265</td>\n",
              "    </tr>\n",
              "    <tr>\n",
              "      <th>10</th>\n",
              "      <td>Nov</td>\n",
              "      <td>1218</td>\n",
              "    </tr>\n",
              "    <tr>\n",
              "      <th>11</th>\n",
              "      <td>Dec</td>\n",
              "      <td>1359</td>\n",
              "    </tr>\n",
              "  </tbody>\n",
              "</table>\n",
              "</div>\n",
              "    <div class=\"colab-df-buttons\">\n",
              "\n",
              "  <div class=\"colab-df-container\">\n",
              "    <button class=\"colab-df-convert\" onclick=\"convertToInteractive('df-a62d3f9f-c3ff-4104-98e4-7afa1e9031a9')\"\n",
              "            title=\"Convert this dataframe to an interactive table.\"\n",
              "            style=\"display:none;\">\n",
              "\n",
              "  <svg xmlns=\"http://www.w3.org/2000/svg\" height=\"24px\" viewBox=\"0 -960 960 960\">\n",
              "    <path d=\"M120-120v-720h720v720H120Zm60-500h600v-160H180v160Zm220 220h160v-160H400v160Zm0 220h160v-160H400v160ZM180-400h160v-160H180v160Zm440 0h160v-160H620v160ZM180-180h160v-160H180v160Zm440 0h160v-160H620v160Z\"/>\n",
              "  </svg>\n",
              "    </button>\n",
              "\n",
              "  <style>\n",
              "    .colab-df-container {\n",
              "      display:flex;\n",
              "      gap: 12px;\n",
              "    }\n",
              "\n",
              "    .colab-df-convert {\n",
              "      background-color: #E8F0FE;\n",
              "      border: none;\n",
              "      border-radius: 50%;\n",
              "      cursor: pointer;\n",
              "      display: none;\n",
              "      fill: #1967D2;\n",
              "      height: 32px;\n",
              "      padding: 0 0 0 0;\n",
              "      width: 32px;\n",
              "    }\n",
              "\n",
              "    .colab-df-convert:hover {\n",
              "      background-color: #E2EBFA;\n",
              "      box-shadow: 0px 1px 2px rgba(60, 64, 67, 0.3), 0px 1px 3px 1px rgba(60, 64, 67, 0.15);\n",
              "      fill: #174EA6;\n",
              "    }\n",
              "\n",
              "    .colab-df-buttons div {\n",
              "      margin-bottom: 4px;\n",
              "    }\n",
              "\n",
              "    [theme=dark] .colab-df-convert {\n",
              "      background-color: #3B4455;\n",
              "      fill: #D2E3FC;\n",
              "    }\n",
              "\n",
              "    [theme=dark] .colab-df-convert:hover {\n",
              "      background-color: #434B5C;\n",
              "      box-shadow: 0px 1px 3px 1px rgba(0, 0, 0, 0.15);\n",
              "      filter: drop-shadow(0px 1px 2px rgba(0, 0, 0, 0.3));\n",
              "      fill: #FFFFFF;\n",
              "    }\n",
              "  </style>\n",
              "\n",
              "    <script>\n",
              "      const buttonEl =\n",
              "        document.querySelector('#df-a62d3f9f-c3ff-4104-98e4-7afa1e9031a9 button.colab-df-convert');\n",
              "      buttonEl.style.display =\n",
              "        google.colab.kernel.accessAllowed ? 'block' : 'none';\n",
              "\n",
              "      async function convertToInteractive(key) {\n",
              "        const element = document.querySelector('#df-a62d3f9f-c3ff-4104-98e4-7afa1e9031a9');\n",
              "        const dataTable =\n",
              "          await google.colab.kernel.invokeFunction('convertToInteractive',\n",
              "                                                    [key], {});\n",
              "        if (!dataTable) return;\n",
              "\n",
              "        const docLinkHtml = 'Like what you see? Visit the ' +\n",
              "          '<a target=\"_blank\" href=https://colab.research.google.com/notebooks/data_table.ipynb>data table notebook</a>'\n",
              "          + ' to learn more about interactive tables.';\n",
              "        element.innerHTML = '';\n",
              "        dataTable['output_type'] = 'display_data';\n",
              "        await google.colab.output.renderOutput(dataTable, element);\n",
              "        const docLink = document.createElement('div');\n",
              "        docLink.innerHTML = docLinkHtml;\n",
              "        element.appendChild(docLink);\n",
              "      }\n",
              "    </script>\n",
              "  </div>\n",
              "\n",
              "\n",
              "<div id=\"df-2f06b7cc-6616-4b24-8192-e91805408a9a\">\n",
              "  <button class=\"colab-df-quickchart\" onclick=\"quickchart('df-2f06b7cc-6616-4b24-8192-e91805408a9a')\"\n",
              "            title=\"Suggest charts\"\n",
              "            style=\"display:none;\">\n",
              "\n",
              "<svg xmlns=\"http://www.w3.org/2000/svg\" height=\"24px\"viewBox=\"0 0 24 24\"\n",
              "     width=\"24px\">\n",
              "    <g>\n",
              "        <path d=\"M19 3H5c-1.1 0-2 .9-2 2v14c0 1.1.9 2 2 2h14c1.1 0 2-.9 2-2V5c0-1.1-.9-2-2-2zM9 17H7v-7h2v7zm4 0h-2V7h2v10zm4 0h-2v-4h2v4z\"/>\n",
              "    </g>\n",
              "</svg>\n",
              "  </button>\n",
              "\n",
              "<style>\n",
              "  .colab-df-quickchart {\n",
              "      --bg-color: #E8F0FE;\n",
              "      --fill-color: #1967D2;\n",
              "      --hover-bg-color: #E2EBFA;\n",
              "      --hover-fill-color: #174EA6;\n",
              "      --disabled-fill-color: #AAA;\n",
              "      --disabled-bg-color: #DDD;\n",
              "  }\n",
              "\n",
              "  [theme=dark] .colab-df-quickchart {\n",
              "      --bg-color: #3B4455;\n",
              "      --fill-color: #D2E3FC;\n",
              "      --hover-bg-color: #434B5C;\n",
              "      --hover-fill-color: #FFFFFF;\n",
              "      --disabled-bg-color: #3B4455;\n",
              "      --disabled-fill-color: #666;\n",
              "  }\n",
              "\n",
              "  .colab-df-quickchart {\n",
              "    background-color: var(--bg-color);\n",
              "    border: none;\n",
              "    border-radius: 50%;\n",
              "    cursor: pointer;\n",
              "    display: none;\n",
              "    fill: var(--fill-color);\n",
              "    height: 32px;\n",
              "    padding: 0;\n",
              "    width: 32px;\n",
              "  }\n",
              "\n",
              "  .colab-df-quickchart:hover {\n",
              "    background-color: var(--hover-bg-color);\n",
              "    box-shadow: 0 1px 2px rgba(60, 64, 67, 0.3), 0 1px 3px 1px rgba(60, 64, 67, 0.15);\n",
              "    fill: var(--button-hover-fill-color);\n",
              "  }\n",
              "\n",
              "  .colab-df-quickchart-complete:disabled,\n",
              "  .colab-df-quickchart-complete:disabled:hover {\n",
              "    background-color: var(--disabled-bg-color);\n",
              "    fill: var(--disabled-fill-color);\n",
              "    box-shadow: none;\n",
              "  }\n",
              "\n",
              "  .colab-df-spinner {\n",
              "    border: 2px solid var(--fill-color);\n",
              "    border-color: transparent;\n",
              "    border-bottom-color: var(--fill-color);\n",
              "    animation:\n",
              "      spin 1s steps(1) infinite;\n",
              "  }\n",
              "\n",
              "  @keyframes spin {\n",
              "    0% {\n",
              "      border-color: transparent;\n",
              "      border-bottom-color: var(--fill-color);\n",
              "      border-left-color: var(--fill-color);\n",
              "    }\n",
              "    20% {\n",
              "      border-color: transparent;\n",
              "      border-left-color: var(--fill-color);\n",
              "      border-top-color: var(--fill-color);\n",
              "    }\n",
              "    30% {\n",
              "      border-color: transparent;\n",
              "      border-left-color: var(--fill-color);\n",
              "      border-top-color: var(--fill-color);\n",
              "      border-right-color: var(--fill-color);\n",
              "    }\n",
              "    40% {\n",
              "      border-color: transparent;\n",
              "      border-right-color: var(--fill-color);\n",
              "      border-top-color: var(--fill-color);\n",
              "    }\n",
              "    60% {\n",
              "      border-color: transparent;\n",
              "      border-right-color: var(--fill-color);\n",
              "    }\n",
              "    80% {\n",
              "      border-color: transparent;\n",
              "      border-right-color: var(--fill-color);\n",
              "      border-bottom-color: var(--fill-color);\n",
              "    }\n",
              "    90% {\n",
              "      border-color: transparent;\n",
              "      border-bottom-color: var(--fill-color);\n",
              "    }\n",
              "  }\n",
              "</style>\n",
              "\n",
              "  <script>\n",
              "    async function quickchart(key) {\n",
              "      const quickchartButtonEl =\n",
              "        document.querySelector('#' + key + ' button');\n",
              "      quickchartButtonEl.disabled = true;  // To prevent multiple clicks.\n",
              "      quickchartButtonEl.classList.add('colab-df-spinner');\n",
              "      try {\n",
              "        const charts = await google.colab.kernel.invokeFunction(\n",
              "            'suggestCharts', [key], {});\n",
              "      } catch (error) {\n",
              "        console.error('Error during call to suggestCharts:', error);\n",
              "      }\n",
              "      quickchartButtonEl.classList.remove('colab-df-spinner');\n",
              "      quickchartButtonEl.classList.add('colab-df-quickchart-complete');\n",
              "    }\n",
              "    (() => {\n",
              "      let quickchartButtonEl =\n",
              "        document.querySelector('#df-2f06b7cc-6616-4b24-8192-e91805408a9a button');\n",
              "      quickchartButtonEl.style.display =\n",
              "        google.colab.kernel.accessAllowed ? 'block' : 'none';\n",
              "    })();\n",
              "  </script>\n",
              "</div>\n",
              "    </div>\n",
              "  </div>\n"
            ],
            "application/vnd.google.colaboratory.intrinsic+json": {
              "type": "dataframe",
              "variable_name": "deaths",
              "summary": "{\n  \"name\": \"deaths\",\n  \"rows\": 12,\n  \"fields\": [\n    {\n      \"column\": \"Month\",\n      \"properties\": {\n        \"dtype\": \"string\",\n        \"num_unique_values\": 12,\n        \"samples\": [\n          \"Nov\",\n          \"Oct\",\n          \"Jan\"\n        ],\n        \"semantic_type\": \"\",\n        \"description\": \"\"\n      }\n    },\n    {\n      \"column\": \"Nr of Deaths\",\n      \"properties\": {\n        \"dtype\": \"number\",\n        \"std\": 119,\n        \"min\": 1115,\n        \"max\": 1575,\n        \"num_unique_values\": 12,\n        \"samples\": [\n          1218,\n          1265,\n          1575\n        ],\n        \"semantic_type\": \"\",\n        \"description\": \"\"\n      }\n    }\n  ]\n}"
            }
          },
          "metadata": {},
          "execution_count": 42
        }
      ]
    },
    {
      "cell_type": "code",
      "source": [
        "births['Saldo'] = births['Nr of Births'] - deaths['Nr of Deaths'] #ar šo pievienoju beigās vēl vienu kolonu\n",
        "births"
      ],
      "metadata": {
        "colab": {
          "base_uri": "https://localhost:8080/",
          "height": 425
        },
        "id": "pZi1BbeGEtv5",
        "outputId": "19b868f3-3274-421f-b841-9824a4d08a47"
      },
      "execution_count": null,
      "outputs": [
        {
          "output_type": "execute_result",
          "data": {
            "text/plain": [
              "   Month  Nr of Births  Saldo\n",
              "0    Jan          1048   -527\n",
              "1    Feb           989   -178\n",
              "2    Mar          1108   -141\n",
              "3    Apr          1207    -74\n",
              "4    May          1186   -117\n",
              "5    Jun          1155     40\n",
              "6    Jul          1391     64\n",
              "7    Aug          1305    103\n",
              "8    Sep          1226     49\n",
              "9    Oct          1155   -110\n",
              "10   Nov          1017   -201\n",
              "11   Dec          1111   -248"
            ],
            "text/html": [
              "\n",
              "  <div id=\"df-5897cecc-83bf-4a6f-bc73-0d048ffd96a4\" class=\"colab-df-container\">\n",
              "    <div>\n",
              "<style scoped>\n",
              "    .dataframe tbody tr th:only-of-type {\n",
              "        vertical-align: middle;\n",
              "    }\n",
              "\n",
              "    .dataframe tbody tr th {\n",
              "        vertical-align: top;\n",
              "    }\n",
              "\n",
              "    .dataframe thead th {\n",
              "        text-align: right;\n",
              "    }\n",
              "</style>\n",
              "<table border=\"1\" class=\"dataframe\">\n",
              "  <thead>\n",
              "    <tr style=\"text-align: right;\">\n",
              "      <th></th>\n",
              "      <th>Month</th>\n",
              "      <th>Nr of Births</th>\n",
              "      <th>Saldo</th>\n",
              "    </tr>\n",
              "  </thead>\n",
              "  <tbody>\n",
              "    <tr>\n",
              "      <th>0</th>\n",
              "      <td>Jan</td>\n",
              "      <td>1048</td>\n",
              "      <td>-527</td>\n",
              "    </tr>\n",
              "    <tr>\n",
              "      <th>1</th>\n",
              "      <td>Feb</td>\n",
              "      <td>989</td>\n",
              "      <td>-178</td>\n",
              "    </tr>\n",
              "    <tr>\n",
              "      <th>2</th>\n",
              "      <td>Mar</td>\n",
              "      <td>1108</td>\n",
              "      <td>-141</td>\n",
              "    </tr>\n",
              "    <tr>\n",
              "      <th>3</th>\n",
              "      <td>Apr</td>\n",
              "      <td>1207</td>\n",
              "      <td>-74</td>\n",
              "    </tr>\n",
              "    <tr>\n",
              "      <th>4</th>\n",
              "      <td>May</td>\n",
              "      <td>1186</td>\n",
              "      <td>-117</td>\n",
              "    </tr>\n",
              "    <tr>\n",
              "      <th>5</th>\n",
              "      <td>Jun</td>\n",
              "      <td>1155</td>\n",
              "      <td>40</td>\n",
              "    </tr>\n",
              "    <tr>\n",
              "      <th>6</th>\n",
              "      <td>Jul</td>\n",
              "      <td>1391</td>\n",
              "      <td>64</td>\n",
              "    </tr>\n",
              "    <tr>\n",
              "      <th>7</th>\n",
              "      <td>Aug</td>\n",
              "      <td>1305</td>\n",
              "      <td>103</td>\n",
              "    </tr>\n",
              "    <tr>\n",
              "      <th>8</th>\n",
              "      <td>Sep</td>\n",
              "      <td>1226</td>\n",
              "      <td>49</td>\n",
              "    </tr>\n",
              "    <tr>\n",
              "      <th>9</th>\n",
              "      <td>Oct</td>\n",
              "      <td>1155</td>\n",
              "      <td>-110</td>\n",
              "    </tr>\n",
              "    <tr>\n",
              "      <th>10</th>\n",
              "      <td>Nov</td>\n",
              "      <td>1017</td>\n",
              "      <td>-201</td>\n",
              "    </tr>\n",
              "    <tr>\n",
              "      <th>11</th>\n",
              "      <td>Dec</td>\n",
              "      <td>1111</td>\n",
              "      <td>-248</td>\n",
              "    </tr>\n",
              "  </tbody>\n",
              "</table>\n",
              "</div>\n",
              "    <div class=\"colab-df-buttons\">\n",
              "\n",
              "  <div class=\"colab-df-container\">\n",
              "    <button class=\"colab-df-convert\" onclick=\"convertToInteractive('df-5897cecc-83bf-4a6f-bc73-0d048ffd96a4')\"\n",
              "            title=\"Convert this dataframe to an interactive table.\"\n",
              "            style=\"display:none;\">\n",
              "\n",
              "  <svg xmlns=\"http://www.w3.org/2000/svg\" height=\"24px\" viewBox=\"0 -960 960 960\">\n",
              "    <path d=\"M120-120v-720h720v720H120Zm60-500h600v-160H180v160Zm220 220h160v-160H400v160Zm0 220h160v-160H400v160ZM180-400h160v-160H180v160Zm440 0h160v-160H620v160ZM180-180h160v-160H180v160Zm440 0h160v-160H620v160Z\"/>\n",
              "  </svg>\n",
              "    </button>\n",
              "\n",
              "  <style>\n",
              "    .colab-df-container {\n",
              "      display:flex;\n",
              "      gap: 12px;\n",
              "    }\n",
              "\n",
              "    .colab-df-convert {\n",
              "      background-color: #E8F0FE;\n",
              "      border: none;\n",
              "      border-radius: 50%;\n",
              "      cursor: pointer;\n",
              "      display: none;\n",
              "      fill: #1967D2;\n",
              "      height: 32px;\n",
              "      padding: 0 0 0 0;\n",
              "      width: 32px;\n",
              "    }\n",
              "\n",
              "    .colab-df-convert:hover {\n",
              "      background-color: #E2EBFA;\n",
              "      box-shadow: 0px 1px 2px rgba(60, 64, 67, 0.3), 0px 1px 3px 1px rgba(60, 64, 67, 0.15);\n",
              "      fill: #174EA6;\n",
              "    }\n",
              "\n",
              "    .colab-df-buttons div {\n",
              "      margin-bottom: 4px;\n",
              "    }\n",
              "\n",
              "    [theme=dark] .colab-df-convert {\n",
              "      background-color: #3B4455;\n",
              "      fill: #D2E3FC;\n",
              "    }\n",
              "\n",
              "    [theme=dark] .colab-df-convert:hover {\n",
              "      background-color: #434B5C;\n",
              "      box-shadow: 0px 1px 3px 1px rgba(0, 0, 0, 0.15);\n",
              "      filter: drop-shadow(0px 1px 2px rgba(0, 0, 0, 0.3));\n",
              "      fill: #FFFFFF;\n",
              "    }\n",
              "  </style>\n",
              "\n",
              "    <script>\n",
              "      const buttonEl =\n",
              "        document.querySelector('#df-5897cecc-83bf-4a6f-bc73-0d048ffd96a4 button.colab-df-convert');\n",
              "      buttonEl.style.display =\n",
              "        google.colab.kernel.accessAllowed ? 'block' : 'none';\n",
              "\n",
              "      async function convertToInteractive(key) {\n",
              "        const element = document.querySelector('#df-5897cecc-83bf-4a6f-bc73-0d048ffd96a4');\n",
              "        const dataTable =\n",
              "          await google.colab.kernel.invokeFunction('convertToInteractive',\n",
              "                                                    [key], {});\n",
              "        if (!dataTable) return;\n",
              "\n",
              "        const docLinkHtml = 'Like what you see? Visit the ' +\n",
              "          '<a target=\"_blank\" href=https://colab.research.google.com/notebooks/data_table.ipynb>data table notebook</a>'\n",
              "          + ' to learn more about interactive tables.';\n",
              "        element.innerHTML = '';\n",
              "        dataTable['output_type'] = 'display_data';\n",
              "        await google.colab.output.renderOutput(dataTable, element);\n",
              "        const docLink = document.createElement('div');\n",
              "        docLink.innerHTML = docLinkHtml;\n",
              "        element.appendChild(docLink);\n",
              "      }\n",
              "    </script>\n",
              "  </div>\n",
              "\n",
              "\n",
              "<div id=\"df-db57353c-746d-4261-9bd4-22d7fff36193\">\n",
              "  <button class=\"colab-df-quickchart\" onclick=\"quickchart('df-db57353c-746d-4261-9bd4-22d7fff36193')\"\n",
              "            title=\"Suggest charts\"\n",
              "            style=\"display:none;\">\n",
              "\n",
              "<svg xmlns=\"http://www.w3.org/2000/svg\" height=\"24px\"viewBox=\"0 0 24 24\"\n",
              "     width=\"24px\">\n",
              "    <g>\n",
              "        <path d=\"M19 3H5c-1.1 0-2 .9-2 2v14c0 1.1.9 2 2 2h14c1.1 0 2-.9 2-2V5c0-1.1-.9-2-2-2zM9 17H7v-7h2v7zm4 0h-2V7h2v10zm4 0h-2v-4h2v4z\"/>\n",
              "    </g>\n",
              "</svg>\n",
              "  </button>\n",
              "\n",
              "<style>\n",
              "  .colab-df-quickchart {\n",
              "      --bg-color: #E8F0FE;\n",
              "      --fill-color: #1967D2;\n",
              "      --hover-bg-color: #E2EBFA;\n",
              "      --hover-fill-color: #174EA6;\n",
              "      --disabled-fill-color: #AAA;\n",
              "      --disabled-bg-color: #DDD;\n",
              "  }\n",
              "\n",
              "  [theme=dark] .colab-df-quickchart {\n",
              "      --bg-color: #3B4455;\n",
              "      --fill-color: #D2E3FC;\n",
              "      --hover-bg-color: #434B5C;\n",
              "      --hover-fill-color: #FFFFFF;\n",
              "      --disabled-bg-color: #3B4455;\n",
              "      --disabled-fill-color: #666;\n",
              "  }\n",
              "\n",
              "  .colab-df-quickchart {\n",
              "    background-color: var(--bg-color);\n",
              "    border: none;\n",
              "    border-radius: 50%;\n",
              "    cursor: pointer;\n",
              "    display: none;\n",
              "    fill: var(--fill-color);\n",
              "    height: 32px;\n",
              "    padding: 0;\n",
              "    width: 32px;\n",
              "  }\n",
              "\n",
              "  .colab-df-quickchart:hover {\n",
              "    background-color: var(--hover-bg-color);\n",
              "    box-shadow: 0 1px 2px rgba(60, 64, 67, 0.3), 0 1px 3px 1px rgba(60, 64, 67, 0.15);\n",
              "    fill: var(--button-hover-fill-color);\n",
              "  }\n",
              "\n",
              "  .colab-df-quickchart-complete:disabled,\n",
              "  .colab-df-quickchart-complete:disabled:hover {\n",
              "    background-color: var(--disabled-bg-color);\n",
              "    fill: var(--disabled-fill-color);\n",
              "    box-shadow: none;\n",
              "  }\n",
              "\n",
              "  .colab-df-spinner {\n",
              "    border: 2px solid var(--fill-color);\n",
              "    border-color: transparent;\n",
              "    border-bottom-color: var(--fill-color);\n",
              "    animation:\n",
              "      spin 1s steps(1) infinite;\n",
              "  }\n",
              "\n",
              "  @keyframes spin {\n",
              "    0% {\n",
              "      border-color: transparent;\n",
              "      border-bottom-color: var(--fill-color);\n",
              "      border-left-color: var(--fill-color);\n",
              "    }\n",
              "    20% {\n",
              "      border-color: transparent;\n",
              "      border-left-color: var(--fill-color);\n",
              "      border-top-color: var(--fill-color);\n",
              "    }\n",
              "    30% {\n",
              "      border-color: transparent;\n",
              "      border-left-color: var(--fill-color);\n",
              "      border-top-color: var(--fill-color);\n",
              "      border-right-color: var(--fill-color);\n",
              "    }\n",
              "    40% {\n",
              "      border-color: transparent;\n",
              "      border-right-color: var(--fill-color);\n",
              "      border-top-color: var(--fill-color);\n",
              "    }\n",
              "    60% {\n",
              "      border-color: transparent;\n",
              "      border-right-color: var(--fill-color);\n",
              "    }\n",
              "    80% {\n",
              "      border-color: transparent;\n",
              "      border-right-color: var(--fill-color);\n",
              "      border-bottom-color: var(--fill-color);\n",
              "    }\n",
              "    90% {\n",
              "      border-color: transparent;\n",
              "      border-bottom-color: var(--fill-color);\n",
              "    }\n",
              "  }\n",
              "</style>\n",
              "\n",
              "  <script>\n",
              "    async function quickchart(key) {\n",
              "      const quickchartButtonEl =\n",
              "        document.querySelector('#' + key + ' button');\n",
              "      quickchartButtonEl.disabled = true;  // To prevent multiple clicks.\n",
              "      quickchartButtonEl.classList.add('colab-df-spinner');\n",
              "      try {\n",
              "        const charts = await google.colab.kernel.invokeFunction(\n",
              "            'suggestCharts', [key], {});\n",
              "      } catch (error) {\n",
              "        console.error('Error during call to suggestCharts:', error);\n",
              "      }\n",
              "      quickchartButtonEl.classList.remove('colab-df-spinner');\n",
              "      quickchartButtonEl.classList.add('colab-df-quickchart-complete');\n",
              "    }\n",
              "    (() => {\n",
              "      let quickchartButtonEl =\n",
              "        document.querySelector('#df-db57353c-746d-4261-9bd4-22d7fff36193 button');\n",
              "      quickchartButtonEl.style.display =\n",
              "        google.colab.kernel.accessAllowed ? 'block' : 'none';\n",
              "    })();\n",
              "  </script>\n",
              "</div>\n",
              "    </div>\n",
              "  </div>\n"
            ],
            "application/vnd.google.colaboratory.intrinsic+json": {
              "type": "dataframe",
              "variable_name": "births",
              "summary": "{\n  \"name\": \"births\",\n  \"rows\": 12,\n  \"fields\": [\n    {\n      \"column\": \"Month\",\n      \"properties\": {\n        \"dtype\": \"string\",\n        \"num_unique_values\": 12,\n        \"samples\": [\n          \"Nov\",\n          \"Oct\",\n          \"Jan\"\n        ],\n        \"semantic_type\": \"\",\n        \"description\": \"\"\n      }\n    },\n    {\n      \"column\": \"Nr of Births\",\n      \"properties\": {\n        \"dtype\": \"number\",\n        \"std\": 116,\n        \"min\": 989,\n        \"max\": 1391,\n        \"num_unique_values\": 11,\n        \"samples\": [\n          1155,\n          1048,\n          1017\n        ],\n        \"semantic_type\": \"\",\n        \"description\": \"\"\n      }\n    },\n    {\n      \"column\": \"Saldo\",\n      \"properties\": {\n        \"dtype\": \"number\",\n        \"std\": 173,\n        \"min\": -527,\n        \"max\": 103,\n        \"num_unique_values\": 12,\n        \"samples\": [\n          -201,\n          -110,\n          -527\n        ],\n        \"semantic_type\": \"\",\n        \"description\": \"\"\n      }\n    }\n  ]\n}"
            }
          },
          "metadata": {},
          "execution_count": 44
        }
      ]
    },
    {
      "cell_type": "code",
      "source": [
        "births['Nr of deaths'] = deaths['Nr.Deaths']\n",
        "births"
      ],
      "metadata": {
        "colab": {
          "base_uri": "https://localhost:8080/",
          "height": 478
        },
        "id": "EZMAoCzdGEQg",
        "outputId": "facf6956-87d6-49be-9d45-906f92b261da"
      },
      "execution_count": null,
      "outputs": [
        {
          "output_type": "error",
          "ename": "KeyError",
          "evalue": "'Nr.Deaths'",
          "traceback": [
            "\u001b[0;31m---------------------------------------------------------------------------\u001b[0m",
            "\u001b[0;31mKeyError\u001b[0m                                  Traceback (most recent call last)",
            "\u001b[0;32m/usr/local/lib/python3.10/dist-packages/pandas/core/indexes/base.py\u001b[0m in \u001b[0;36mget_loc\u001b[0;34m(self, key)\u001b[0m\n\u001b[1;32m   3652\u001b[0m         \u001b[0;32mtry\u001b[0m\u001b[0;34m:\u001b[0m\u001b[0;34m\u001b[0m\u001b[0;34m\u001b[0m\u001b[0m\n\u001b[0;32m-> 3653\u001b[0;31m             \u001b[0;32mreturn\u001b[0m \u001b[0mself\u001b[0m\u001b[0;34m.\u001b[0m\u001b[0m_engine\u001b[0m\u001b[0;34m.\u001b[0m\u001b[0mget_loc\u001b[0m\u001b[0;34m(\u001b[0m\u001b[0mcasted_key\u001b[0m\u001b[0;34m)\u001b[0m\u001b[0;34m\u001b[0m\u001b[0;34m\u001b[0m\u001b[0m\n\u001b[0m\u001b[1;32m   3654\u001b[0m         \u001b[0;32mexcept\u001b[0m \u001b[0mKeyError\u001b[0m \u001b[0;32mas\u001b[0m \u001b[0merr\u001b[0m\u001b[0;34m:\u001b[0m\u001b[0;34m\u001b[0m\u001b[0;34m\u001b[0m\u001b[0m\n",
            "\u001b[0;32m/usr/local/lib/python3.10/dist-packages/pandas/_libs/index.pyx\u001b[0m in \u001b[0;36mpandas._libs.index.IndexEngine.get_loc\u001b[0;34m()\u001b[0m\n",
            "\u001b[0;32m/usr/local/lib/python3.10/dist-packages/pandas/_libs/index.pyx\u001b[0m in \u001b[0;36mpandas._libs.index.IndexEngine.get_loc\u001b[0;34m()\u001b[0m\n",
            "\u001b[0;32mpandas/_libs/hashtable_class_helper.pxi\u001b[0m in \u001b[0;36mpandas._libs.hashtable.PyObjectHashTable.get_item\u001b[0;34m()\u001b[0m\n",
            "\u001b[0;32mpandas/_libs/hashtable_class_helper.pxi\u001b[0m in \u001b[0;36mpandas._libs.hashtable.PyObjectHashTable.get_item\u001b[0;34m()\u001b[0m\n",
            "\u001b[0;31mKeyError\u001b[0m: 'Nr.Deaths'",
            "\nThe above exception was the direct cause of the following exception:\n",
            "\u001b[0;31mKeyError\u001b[0m                                  Traceback (most recent call last)",
            "\u001b[0;32m<ipython-input-45-92aadc4ca078>\u001b[0m in \u001b[0;36m<cell line: 1>\u001b[0;34m()\u001b[0m\n\u001b[0;32m----> 1\u001b[0;31m \u001b[0mbirths\u001b[0m\u001b[0;34m[\u001b[0m\u001b[0;34m'Nr of deaths'\u001b[0m\u001b[0;34m]\u001b[0m \u001b[0;34m=\u001b[0m \u001b[0mdeaths\u001b[0m\u001b[0;34m[\u001b[0m\u001b[0;34m'Nr.Deaths'\u001b[0m\u001b[0;34m]\u001b[0m\u001b[0;34m\u001b[0m\u001b[0;34m\u001b[0m\u001b[0m\n\u001b[0m\u001b[1;32m      2\u001b[0m \u001b[0mbirths\u001b[0m\u001b[0;34m\u001b[0m\u001b[0;34m\u001b[0m\u001b[0m\n",
            "\u001b[0;32m/usr/local/lib/python3.10/dist-packages/pandas/core/frame.py\u001b[0m in \u001b[0;36m__getitem__\u001b[0;34m(self, key)\u001b[0m\n\u001b[1;32m   3759\u001b[0m             \u001b[0;32mif\u001b[0m \u001b[0mself\u001b[0m\u001b[0;34m.\u001b[0m\u001b[0mcolumns\u001b[0m\u001b[0;34m.\u001b[0m\u001b[0mnlevels\u001b[0m \u001b[0;34m>\u001b[0m \u001b[0;36m1\u001b[0m\u001b[0;34m:\u001b[0m\u001b[0;34m\u001b[0m\u001b[0;34m\u001b[0m\u001b[0m\n\u001b[1;32m   3760\u001b[0m                 \u001b[0;32mreturn\u001b[0m \u001b[0mself\u001b[0m\u001b[0;34m.\u001b[0m\u001b[0m_getitem_multilevel\u001b[0m\u001b[0;34m(\u001b[0m\u001b[0mkey\u001b[0m\u001b[0;34m)\u001b[0m\u001b[0;34m\u001b[0m\u001b[0;34m\u001b[0m\u001b[0m\n\u001b[0;32m-> 3761\u001b[0;31m             \u001b[0mindexer\u001b[0m \u001b[0;34m=\u001b[0m \u001b[0mself\u001b[0m\u001b[0;34m.\u001b[0m\u001b[0mcolumns\u001b[0m\u001b[0;34m.\u001b[0m\u001b[0mget_loc\u001b[0m\u001b[0;34m(\u001b[0m\u001b[0mkey\u001b[0m\u001b[0;34m)\u001b[0m\u001b[0;34m\u001b[0m\u001b[0;34m\u001b[0m\u001b[0m\n\u001b[0m\u001b[1;32m   3762\u001b[0m             \u001b[0;32mif\u001b[0m \u001b[0mis_integer\u001b[0m\u001b[0;34m(\u001b[0m\u001b[0mindexer\u001b[0m\u001b[0;34m)\u001b[0m\u001b[0;34m:\u001b[0m\u001b[0;34m\u001b[0m\u001b[0;34m\u001b[0m\u001b[0m\n\u001b[1;32m   3763\u001b[0m                 \u001b[0mindexer\u001b[0m \u001b[0;34m=\u001b[0m \u001b[0;34m[\u001b[0m\u001b[0mindexer\u001b[0m\u001b[0;34m]\u001b[0m\u001b[0;34m\u001b[0m\u001b[0;34m\u001b[0m\u001b[0m\n",
            "\u001b[0;32m/usr/local/lib/python3.10/dist-packages/pandas/core/indexes/base.py\u001b[0m in \u001b[0;36mget_loc\u001b[0;34m(self, key)\u001b[0m\n\u001b[1;32m   3653\u001b[0m             \u001b[0;32mreturn\u001b[0m \u001b[0mself\u001b[0m\u001b[0;34m.\u001b[0m\u001b[0m_engine\u001b[0m\u001b[0;34m.\u001b[0m\u001b[0mget_loc\u001b[0m\u001b[0;34m(\u001b[0m\u001b[0mcasted_key\u001b[0m\u001b[0;34m)\u001b[0m\u001b[0;34m\u001b[0m\u001b[0;34m\u001b[0m\u001b[0m\n\u001b[1;32m   3654\u001b[0m         \u001b[0;32mexcept\u001b[0m \u001b[0mKeyError\u001b[0m \u001b[0;32mas\u001b[0m \u001b[0merr\u001b[0m\u001b[0;34m:\u001b[0m\u001b[0;34m\u001b[0m\u001b[0;34m\u001b[0m\u001b[0m\n\u001b[0;32m-> 3655\u001b[0;31m             \u001b[0;32mraise\u001b[0m \u001b[0mKeyError\u001b[0m\u001b[0;34m(\u001b[0m\u001b[0mkey\u001b[0m\u001b[0;34m)\u001b[0m \u001b[0;32mfrom\u001b[0m \u001b[0merr\u001b[0m\u001b[0;34m\u001b[0m\u001b[0;34m\u001b[0m\u001b[0m\n\u001b[0m\u001b[1;32m   3656\u001b[0m         \u001b[0;32mexcept\u001b[0m \u001b[0mTypeError\u001b[0m\u001b[0;34m:\u001b[0m\u001b[0;34m\u001b[0m\u001b[0;34m\u001b[0m\u001b[0m\n\u001b[1;32m   3657\u001b[0m             \u001b[0;31m# If we have a listlike key, _check_indexing_error will raise\u001b[0m\u001b[0;34m\u001b[0m\u001b[0;34m\u001b[0m\u001b[0m\n",
            "\u001b[0;31mKeyError\u001b[0m: 'Nr.Deaths'"
          ]
        }
      ]
    },
    {
      "cell_type": "code",
      "source": [
        "# EXPORTING\n",
        "file_name = '/content/output.csv'\n",
        "\n",
        "births.to_csv(file_name, index = False)"
      ],
      "metadata": {
        "id": "lQONBkFaG7bx"
      },
      "execution_count": null,
      "outputs": []
    },
    {
      "cell_type": "code",
      "source": [
        "from google.colab import drive\n",
        "drive.mount('/content/drive')"
      ],
      "metadata": {
        "id": "irU4BYBEJByR"
      },
      "execution_count": null,
      "outputs": []
    },
    {
      "cell_type": "code",
      "source": [
        "import pandas as pd\n",
        "\n",
        "data = pd.read_csv('/username.csv', header=None, delimiter = ';')\n",
        "\n",
        "data_column_names = ['Username', 'Identifier', 'First Name', 'Last Name']\n",
        "data.columns = data_column_names\n",
        "data"
      ],
      "metadata": {
        "colab": {
          "base_uri": "https://localhost:8080/",
          "height": 237
        },
        "id": "MDANT1t4KvNj",
        "outputId": "22be98db-71fc-4f1a-f381-3aa74da479ad",
        "collapsed": true
      },
      "execution_count": null,
      "outputs": [
        {
          "output_type": "execute_result",
          "data": {
            "text/plain": [
              "    Username   Identifier  First Name  Last Name\n",
              "0   Username   Identifier  First name  Last name\n",
              "1   booker12         9012      Rachel     Booker\n",
              "2     grey07         2070       Laura       Grey\n",
              "3  johnson81         4081       Craig    Johnson\n",
              "4  jenkins46         9346        Mary    Jenkins\n",
              "5    smith79         5079       Jamie      Smith"
            ],
            "text/html": [
              "\n",
              "  <div id=\"df-96713587-5056-4845-8664-830cef93dae6\" class=\"colab-df-container\">\n",
              "    <div>\n",
              "<style scoped>\n",
              "    .dataframe tbody tr th:only-of-type {\n",
              "        vertical-align: middle;\n",
              "    }\n",
              "\n",
              "    .dataframe tbody tr th {\n",
              "        vertical-align: top;\n",
              "    }\n",
              "\n",
              "    .dataframe thead th {\n",
              "        text-align: right;\n",
              "    }\n",
              "</style>\n",
              "<table border=\"1\" class=\"dataframe\">\n",
              "  <thead>\n",
              "    <tr style=\"text-align: right;\">\n",
              "      <th></th>\n",
              "      <th>Username</th>\n",
              "      <th>Identifier</th>\n",
              "      <th>First Name</th>\n",
              "      <th>Last Name</th>\n",
              "    </tr>\n",
              "  </thead>\n",
              "  <tbody>\n",
              "    <tr>\n",
              "      <th>0</th>\n",
              "      <td>Username</td>\n",
              "      <td>Identifier</td>\n",
              "      <td>First name</td>\n",
              "      <td>Last name</td>\n",
              "    </tr>\n",
              "    <tr>\n",
              "      <th>1</th>\n",
              "      <td>booker12</td>\n",
              "      <td>9012</td>\n",
              "      <td>Rachel</td>\n",
              "      <td>Booker</td>\n",
              "    </tr>\n",
              "    <tr>\n",
              "      <th>2</th>\n",
              "      <td>grey07</td>\n",
              "      <td>2070</td>\n",
              "      <td>Laura</td>\n",
              "      <td>Grey</td>\n",
              "    </tr>\n",
              "    <tr>\n",
              "      <th>3</th>\n",
              "      <td>johnson81</td>\n",
              "      <td>4081</td>\n",
              "      <td>Craig</td>\n",
              "      <td>Johnson</td>\n",
              "    </tr>\n",
              "    <tr>\n",
              "      <th>4</th>\n",
              "      <td>jenkins46</td>\n",
              "      <td>9346</td>\n",
              "      <td>Mary</td>\n",
              "      <td>Jenkins</td>\n",
              "    </tr>\n",
              "    <tr>\n",
              "      <th>5</th>\n",
              "      <td>smith79</td>\n",
              "      <td>5079</td>\n",
              "      <td>Jamie</td>\n",
              "      <td>Smith</td>\n",
              "    </tr>\n",
              "  </tbody>\n",
              "</table>\n",
              "</div>\n",
              "    <div class=\"colab-df-buttons\">\n",
              "\n",
              "  <div class=\"colab-df-container\">\n",
              "    <button class=\"colab-df-convert\" onclick=\"convertToInteractive('df-96713587-5056-4845-8664-830cef93dae6')\"\n",
              "            title=\"Convert this dataframe to an interactive table.\"\n",
              "            style=\"display:none;\">\n",
              "\n",
              "  <svg xmlns=\"http://www.w3.org/2000/svg\" height=\"24px\" viewBox=\"0 -960 960 960\">\n",
              "    <path d=\"M120-120v-720h720v720H120Zm60-500h600v-160H180v160Zm220 220h160v-160H400v160Zm0 220h160v-160H400v160ZM180-400h160v-160H180v160Zm440 0h160v-160H620v160ZM180-180h160v-160H180v160Zm440 0h160v-160H620v160Z\"/>\n",
              "  </svg>\n",
              "    </button>\n",
              "\n",
              "  <style>\n",
              "    .colab-df-container {\n",
              "      display:flex;\n",
              "      gap: 12px;\n",
              "    }\n",
              "\n",
              "    .colab-df-convert {\n",
              "      background-color: #E8F0FE;\n",
              "      border: none;\n",
              "      border-radius: 50%;\n",
              "      cursor: pointer;\n",
              "      display: none;\n",
              "      fill: #1967D2;\n",
              "      height: 32px;\n",
              "      padding: 0 0 0 0;\n",
              "      width: 32px;\n",
              "    }\n",
              "\n",
              "    .colab-df-convert:hover {\n",
              "      background-color: #E2EBFA;\n",
              "      box-shadow: 0px 1px 2px rgba(60, 64, 67, 0.3), 0px 1px 3px 1px rgba(60, 64, 67, 0.15);\n",
              "      fill: #174EA6;\n",
              "    }\n",
              "\n",
              "    .colab-df-buttons div {\n",
              "      margin-bottom: 4px;\n",
              "    }\n",
              "\n",
              "    [theme=dark] .colab-df-convert {\n",
              "      background-color: #3B4455;\n",
              "      fill: #D2E3FC;\n",
              "    }\n",
              "\n",
              "    [theme=dark] .colab-df-convert:hover {\n",
              "      background-color: #434B5C;\n",
              "      box-shadow: 0px 1px 3px 1px rgba(0, 0, 0, 0.15);\n",
              "      filter: drop-shadow(0px 1px 2px rgba(0, 0, 0, 0.3));\n",
              "      fill: #FFFFFF;\n",
              "    }\n",
              "  </style>\n",
              "\n",
              "    <script>\n",
              "      const buttonEl =\n",
              "        document.querySelector('#df-96713587-5056-4845-8664-830cef93dae6 button.colab-df-convert');\n",
              "      buttonEl.style.display =\n",
              "        google.colab.kernel.accessAllowed ? 'block' : 'none';\n",
              "\n",
              "      async function convertToInteractive(key) {\n",
              "        const element = document.querySelector('#df-96713587-5056-4845-8664-830cef93dae6');\n",
              "        const dataTable =\n",
              "          await google.colab.kernel.invokeFunction('convertToInteractive',\n",
              "                                                    [key], {});\n",
              "        if (!dataTable) return;\n",
              "\n",
              "        const docLinkHtml = 'Like what you see? Visit the ' +\n",
              "          '<a target=\"_blank\" href=https://colab.research.google.com/notebooks/data_table.ipynb>data table notebook</a>'\n",
              "          + ' to learn more about interactive tables.';\n",
              "        element.innerHTML = '';\n",
              "        dataTable['output_type'] = 'display_data';\n",
              "        await google.colab.output.renderOutput(dataTable, element);\n",
              "        const docLink = document.createElement('div');\n",
              "        docLink.innerHTML = docLinkHtml;\n",
              "        element.appendChild(docLink);\n",
              "      }\n",
              "    </script>\n",
              "  </div>\n",
              "\n",
              "\n",
              "<div id=\"df-004040b6-7dd0-4302-855f-d7326080d356\">\n",
              "  <button class=\"colab-df-quickchart\" onclick=\"quickchart('df-004040b6-7dd0-4302-855f-d7326080d356')\"\n",
              "            title=\"Suggest charts\"\n",
              "            style=\"display:none;\">\n",
              "\n",
              "<svg xmlns=\"http://www.w3.org/2000/svg\" height=\"24px\"viewBox=\"0 0 24 24\"\n",
              "     width=\"24px\">\n",
              "    <g>\n",
              "        <path d=\"M19 3H5c-1.1 0-2 .9-2 2v14c0 1.1.9 2 2 2h14c1.1 0 2-.9 2-2V5c0-1.1-.9-2-2-2zM9 17H7v-7h2v7zm4 0h-2V7h2v10zm4 0h-2v-4h2v4z\"/>\n",
              "    </g>\n",
              "</svg>\n",
              "  </button>\n",
              "\n",
              "<style>\n",
              "  .colab-df-quickchart {\n",
              "      --bg-color: #E8F0FE;\n",
              "      --fill-color: #1967D2;\n",
              "      --hover-bg-color: #E2EBFA;\n",
              "      --hover-fill-color: #174EA6;\n",
              "      --disabled-fill-color: #AAA;\n",
              "      --disabled-bg-color: #DDD;\n",
              "  }\n",
              "\n",
              "  [theme=dark] .colab-df-quickchart {\n",
              "      --bg-color: #3B4455;\n",
              "      --fill-color: #D2E3FC;\n",
              "      --hover-bg-color: #434B5C;\n",
              "      --hover-fill-color: #FFFFFF;\n",
              "      --disabled-bg-color: #3B4455;\n",
              "      --disabled-fill-color: #666;\n",
              "  }\n",
              "\n",
              "  .colab-df-quickchart {\n",
              "    background-color: var(--bg-color);\n",
              "    border: none;\n",
              "    border-radius: 50%;\n",
              "    cursor: pointer;\n",
              "    display: none;\n",
              "    fill: var(--fill-color);\n",
              "    height: 32px;\n",
              "    padding: 0;\n",
              "    width: 32px;\n",
              "  }\n",
              "\n",
              "  .colab-df-quickchart:hover {\n",
              "    background-color: var(--hover-bg-color);\n",
              "    box-shadow: 0 1px 2px rgba(60, 64, 67, 0.3), 0 1px 3px 1px rgba(60, 64, 67, 0.15);\n",
              "    fill: var(--button-hover-fill-color);\n",
              "  }\n",
              "\n",
              "  .colab-df-quickchart-complete:disabled,\n",
              "  .colab-df-quickchart-complete:disabled:hover {\n",
              "    background-color: var(--disabled-bg-color);\n",
              "    fill: var(--disabled-fill-color);\n",
              "    box-shadow: none;\n",
              "  }\n",
              "\n",
              "  .colab-df-spinner {\n",
              "    border: 2px solid var(--fill-color);\n",
              "    border-color: transparent;\n",
              "    border-bottom-color: var(--fill-color);\n",
              "    animation:\n",
              "      spin 1s steps(1) infinite;\n",
              "  }\n",
              "\n",
              "  @keyframes spin {\n",
              "    0% {\n",
              "      border-color: transparent;\n",
              "      border-bottom-color: var(--fill-color);\n",
              "      border-left-color: var(--fill-color);\n",
              "    }\n",
              "    20% {\n",
              "      border-color: transparent;\n",
              "      border-left-color: var(--fill-color);\n",
              "      border-top-color: var(--fill-color);\n",
              "    }\n",
              "    30% {\n",
              "      border-color: transparent;\n",
              "      border-left-color: var(--fill-color);\n",
              "      border-top-color: var(--fill-color);\n",
              "      border-right-color: var(--fill-color);\n",
              "    }\n",
              "    40% {\n",
              "      border-color: transparent;\n",
              "      border-right-color: var(--fill-color);\n",
              "      border-top-color: var(--fill-color);\n",
              "    }\n",
              "    60% {\n",
              "      border-color: transparent;\n",
              "      border-right-color: var(--fill-color);\n",
              "    }\n",
              "    80% {\n",
              "      border-color: transparent;\n",
              "      border-right-color: var(--fill-color);\n",
              "      border-bottom-color: var(--fill-color);\n",
              "    }\n",
              "    90% {\n",
              "      border-color: transparent;\n",
              "      border-bottom-color: var(--fill-color);\n",
              "    }\n",
              "  }\n",
              "</style>\n",
              "\n",
              "  <script>\n",
              "    async function quickchart(key) {\n",
              "      const quickchartButtonEl =\n",
              "        document.querySelector('#' + key + ' button');\n",
              "      quickchartButtonEl.disabled = true;  // To prevent multiple clicks.\n",
              "      quickchartButtonEl.classList.add('colab-df-spinner');\n",
              "      try {\n",
              "        const charts = await google.colab.kernel.invokeFunction(\n",
              "            'suggestCharts', [key], {});\n",
              "      } catch (error) {\n",
              "        console.error('Error during call to suggestCharts:', error);\n",
              "      }\n",
              "      quickchartButtonEl.classList.remove('colab-df-spinner');\n",
              "      quickchartButtonEl.classList.add('colab-df-quickchart-complete');\n",
              "    }\n",
              "    (() => {\n",
              "      let quickchartButtonEl =\n",
              "        document.querySelector('#df-004040b6-7dd0-4302-855f-d7326080d356 button');\n",
              "      quickchartButtonEl.style.display =\n",
              "        google.colab.kernel.accessAllowed ? 'block' : 'none';\n",
              "    })();\n",
              "  </script>\n",
              "</div>\n",
              "    </div>\n",
              "  </div>\n"
            ],
            "application/vnd.google.colaboratory.intrinsic+json": {
              "type": "dataframe",
              "variable_name": "data",
              "summary": "{\n  \"name\": \"data\",\n  \"rows\": 6,\n  \"fields\": [\n    {\n      \"column\": \"Username\",\n      \"properties\": {\n        \"dtype\": \"string\",\n        \"num_unique_values\": 6,\n        \"samples\": [\n          \"Username\",\n          \"booker12\",\n          \"smith79\"\n        ],\n        \"semantic_type\": \"\",\n        \"description\": \"\"\n      }\n    },\n    {\n      \"column\": \"Identifier\",\n      \"properties\": {\n        \"dtype\": \"string\",\n        \"num_unique_values\": 6,\n        \"samples\": [\n          \" Identifier\",\n          \"9012\",\n          \"5079\"\n        ],\n        \"semantic_type\": \"\",\n        \"description\": \"\"\n      }\n    },\n    {\n      \"column\": \"First Name\",\n      \"properties\": {\n        \"dtype\": \"string\",\n        \"num_unique_values\": 6,\n        \"samples\": [\n          \"First name\",\n          \"Rachel\",\n          \"Jamie\"\n        ],\n        \"semantic_type\": \"\",\n        \"description\": \"\"\n      }\n    },\n    {\n      \"column\": \"Last Name\",\n      \"properties\": {\n        \"dtype\": \"string\",\n        \"num_unique_values\": 6,\n        \"samples\": [\n          \"Last name\",\n          \"Booker\",\n          \"Smith\"\n        ],\n        \"semantic_type\": \"\",\n        \"description\": \"\"\n      }\n    }\n  ]\n}"
            }
          },
          "metadata": {},
          "execution_count": 55
        }
      ]
    },
    {
      "cell_type": "markdown",
      "source": [
        "INDIVIDUAL TASK"
      ],
      "metadata": {
        "id": "5d8icGen27V2"
      }
    },
    {
      "cell_type": "code",
      "source": [
        "prices = []\n",
        "# Atveram failu un lasām to rindu pa rindai\n",
        "with open('/content/prices.txt', 'r') as file:\n",
        "    for line in file:\n",
        "        line = line.strip()  # Noņemam liekos atstarpes un jaunas rindas zīmes\n",
        "        try:\n",
        "            price = float(line)  # Mēģinām pārveidot rindu par decimālskaitli\n",
        "            prices.append(price)  # Pievienojam skaitli sarakstam\n",
        "        except ValueError:\n",
        "            # Ja rinda nav skaitliska, turpinām nākamo iterāciju\n",
        "            continue\n",
        "\n",
        "# Veicam aprēķinus ar iegūtajām skaitliskajām vērtībām\n",
        "total_price = sum(prices)\n",
        "total_items = len(prices)\n",
        "\n",
        "print(f\"Total price of all items: {total_price}\")\n",
        "print(f\"Total number of purchased items: {total_items}\")"
      ],
      "metadata": {
        "colab": {
          "base_uri": "https://localhost:8080/"
        },
        "id": "4ao02eI3285n",
        "outputId": "7ff118d6-394a-4e60-cbde-f6748a1e839e"
      },
      "execution_count": 10,
      "outputs": [
        {
          "output_type": "stream",
          "name": "stdout",
          "text": [
            "Total price of all items: 17.32\n",
            "Total number of purchased items: 5\n"
          ]
        }
      ]
    }
  ]
}